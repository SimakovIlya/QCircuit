{
 "cells": [
  {
   "cell_type": "code",
   "execution_count": 2,
   "metadata": {
    "ExecuteTime": {
     "end_time": "2019-11-05T17:24:45.829170Z",
     "start_time": "2019-11-05T17:24:44.996167Z"
    }
   },
   "outputs": [],
   "source": [
    "import matplotlib.pyplot as plt\n",
    "import numpy as np\n",
    "import random"
   ]
  },
  {
   "cell_type": "markdown",
   "metadata": {},
   "source": [
    "# Objects"
   ]
  },
  {
   "cell_type": "markdown",
   "metadata": {},
   "source": [
    "## Constants"
   ]
  },
  {
   "cell_type": "code",
   "execution_count": 3,
   "metadata": {
    "ExecuteTime": {
     "end_time": "2019-11-05T17:24:46.035324Z",
     "start_time": "2019-11-05T17:24:46.030434Z"
    }
   },
   "outputs": [],
   "source": [
    "hbar = 1.05 * 10**(-34)\n",
    "e = 1.6 * 10**(-19)\n",
    "Phi0 = np.pi * hbar / e"
   ]
  },
  {
   "cell_type": "markdown",
   "metadata": {},
   "source": [
    "## Transmon"
   ]
  },
  {
   "cell_type": "markdown",
   "metadata": {},
   "source": [
    "<img src=\"img/transmon.png\" align=\"right\" alt=\"Drawing\" style=\"width: 400px;\"/>\n",
    "\n",
    "$E_{j1} = \\cfrac{\\hbar I_{j1}}{2e}$\n",
    "\n",
    "$E_{j2} = \\cfrac{\\hbar I_{j2}}{2e}$ (если есть)\n",
    "\n",
    "$\\Phi_{ext} = MI$\n",
    "\n",
    "$E_j = \\sqrt{E_{j1}^2 + E_{j2}^2 + E_{j1}E_{j2}\\cos(2e \\Phi_{ext}/\\hbar)}$\n",
    "\n",
    "$E_c = \\cfrac{e^2}{2(C + C_r + C_l + C_u)} = \\cfrac{e^2}{2(C + C_{neighbours})}$\n",
    "\n",
    "$\\hbar \\omega = \\sqrt{(8 E_c E_j)}$\n",
    "\n",
    "$E_{n-1, n} = \\sqrt{(8 E_c E_j)} - E_cn$"
   ]
  },
  {
   "cell_type": "code",
   "execution_count": 36,
   "metadata": {
    "ExecuteTime": {
     "end_time": "2019-11-05T22:05:19.392281Z",
     "start_time": "2019-11-05T22:05:19.384698Z"
    }
   },
   "outputs": [],
   "source": [
    "class Transmon:\n",
    "# properties\n",
    "    # n - number of levels\n",
    "    # psi - wave function\n",
    "    # Ej\n",
    "    # Ec\n",
    "    # w - array of freq 0-1, 1-2 ...\n",
    "    # psi - wave function (defaulf [1, 0 , 0 ...])\n",
    "    # what about gamma???\n",
    "    \n",
    "    def __init__(self, n_lvl, psi,  C, Ij1, Ij2 = 0, M = 0, I = 0, Cnb = [0]):\n",
    "        \n",
    "        #Ej, Ec, w\n",
    "        Ej1 = hbar * Ij1 / (2 * e)\n",
    "        Ej2 = hbar * Ij2 / (2 * e)\n",
    "        Phiext = I * M\n",
    "        self.Ej = np.sqrt(Ej1**2 + Ej2**2 + 2 * Ej1 * Ej2 * np.cos(2 * e / hbar * Phiext))\n",
    "        self.Ec = e**2 / 2 / (C + np.sum(Cnb))\n",
    "        self.w = np.zeros(n_lvl - 1)\n",
    "        for i in range(1, n_lvl):\n",
    "            self.w[i-1]= np.sqrt(8 * self.Ec * self.Ej) / hbar - self.Ec * i / hbar\n",
    "        \n",
    "        # number of levels\n",
    "        self.n = n_lvl\n",
    "        \n",
    "        #wave fucntion\n",
    "        self.psi = np.array(psi, dtype = complex)\n",
    "        if self.psi.size != self.n:\n",
    "            print('error, wrong size of transmon.psi')\n",
    "        self.psi = self.psi / np.linalg.norm(self.psi)\n",
    "        self.psi.shape = (self.n, 1)"
   ]
  },
  {
   "cell_type": "markdown",
   "metadata": {},
   "source": [
    "## Coupling"
   ]
  },
  {
   "cell_type": "markdown",
   "metadata": {},
   "source": [
    "Пока совсем сыро"
   ]
  },
  {
   "cell_type": "code",
   "execution_count": 34,
   "metadata": {
    "ExecuteTime": {
     "end_time": "2019-11-05T19:15:12.362595Z",
     "start_time": "2019-11-05T19:15:12.359542Z"
    }
   },
   "outputs": [],
   "source": [
    "class Coupling():\n",
    "    \n",
    "    def __init__(self, C, Cnb):\n",
    "        self.C = C"
   ]
  },
  {
   "cell_type": "code",
   "execution_count": null,
   "metadata": {},
   "outputs": [],
   "source": []
  },
  {
   "cell_type": "code",
   "execution_count": 37,
   "metadata": {
    "ExecuteTime": {
     "end_time": "2019-11-05T22:05:22.999953Z",
     "start_time": "2019-11-05T22:05:22.990070Z"
    }
   },
   "outputs": [
    {
     "name": "stdout",
     "output_type": "stream",
     "text": [
      "[7.37266327 6.98462836] GHz\n",
      "50.0\n",
      "[[0.70710678+0.j]\n",
      " [0.70710678+0.j]\n",
      " [0.        +0.j]]\n"
     ]
    }
   ],
   "source": [
    "#проверка работы Transmon\n",
    "C = 5*10**(-14)\n",
    "Ij = 50*e**3/hbar/C\n",
    "\n",
    "transmon = Transmon(n_lvl = 3, psi = [1, 1, 0], C = C, Ij1 = Ij, Ij2 = 0)\n",
    "print(transmon.w/10**(9)/2/np.pi, 'GHz')\n",
    "print(transmon.Ej/transmon.Ec)\n",
    "print(transmon.psi)"
   ]
  },
  {
   "cell_type": "code",
   "execution_count": null,
   "metadata": {},
   "outputs": [],
   "source": []
  }
 ],
 "metadata": {
  "kernelspec": {
   "display_name": "Python 3",
   "language": "python",
   "name": "python3"
  },
  "language_info": {
   "codemirror_mode": {
    "name": "ipython",
    "version": 3
   },
   "file_extension": ".py",
   "mimetype": "text/x-python",
   "name": "python",
   "nbconvert_exporter": "python",
   "pygments_lexer": "ipython3",
   "version": "3.7.3"
  },
  "latex_envs": {
   "LaTeX_envs_menu_present": true,
   "autoclose": false,
   "autocomplete": true,
   "bibliofile": "biblio.bib",
   "cite_by": "apalike",
   "current_citInitial": 1,
   "eqLabelWithNumbers": true,
   "eqNumInitial": 1,
   "hotkeys": {
    "equation": "Ctrl-E",
    "itemize": "Ctrl-I"
   },
   "labels_anchors": false,
   "latex_user_defs": false,
   "report_style_numbering": false,
   "user_envs_cfg": false
  },
  "toc": {
   "base_numbering": 1,
   "nav_menu": {},
   "number_sections": true,
   "sideBar": true,
   "skip_h1_title": false,
   "title_cell": "Table of Contents",
   "title_sidebar": "Contents",
   "toc_cell": false,
   "toc_position": {
    "height": "calc(100% - 180px)",
    "left": "10px",
    "top": "150px",
    "width": "288px"
   },
   "toc_section_display": true,
   "toc_window_display": true
  }
 },
 "nbformat": 4,
 "nbformat_minor": 2
}
