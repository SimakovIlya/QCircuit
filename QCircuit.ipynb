{
 "cells": [
  {
   "cell_type": "code",
   "execution_count": 1,
   "metadata": {
    "ExecuteTime": {
     "end_time": "2019-12-12T16:21:04.039510Z",
     "start_time": "2019-12-12T16:21:03.434825Z"
    }
   },
   "outputs": [],
   "source": [
    "import matplotlib.pyplot as plt\n",
    "import numpy as np\n",
    "import random\n",
    "import copy\n",
    "from scipy.signal import fftconvolve\n",
    "import scipy\n",
    "from scipy.optimize import curve_fit\n",
    "from scipy.optimize import least_squares"
   ]
  },
  {
   "cell_type": "code",
   "execution_count": 2,
   "metadata": {
    "ExecuteTime": {
     "end_time": "2019-12-12T16:21:04.043742Z",
     "start_time": "2019-12-12T16:21:04.041327Z"
    }
   },
   "outputs": [],
   "source": [
    "hbar = 1.05 * 10**(-34)\n",
    "e = 1.6 * 10**(-19)\n",
    "Phi0 = np.pi * hbar / e"
   ]
  },
  {
   "cell_type": "markdown",
   "metadata": {},
   "source": [
    "# Objects"
   ]
  },
  {
   "cell_type": "markdown",
   "metadata": {},
   "source": [
    "## Transmon"
   ]
  },
  {
   "cell_type": "markdown",
   "metadata": {},
   "source": [
    "<img src=\"img/transmon.png\" align=\"right\" alt=\"Drawing\" style=\"width: 400px;\"/>\n",
    "\n",
    "$E_{j1} = \\cfrac{\\hbar I_{j1}}{2e}$\n",
    "\n",
    "$E_{j2} = \\cfrac{\\hbar I_{j2}}{2e}$ (если есть)\n",
    "\n",
    "$\\Phi_{ext} = MI$\n",
    "\n",
    "$E_j = \\sqrt{E_{j1}^2 + E_{j2}^2 + 2E_{j1}E_{j2}\\cos(2e \\Phi_{ext}/\\hbar)}$\n",
    "\n",
    "$E_c = \\cfrac{e^2}{2(C + C_r + C_l + C_u)} = \\cfrac{e^2}{2(C + C_{neighbours})}$\n",
    "\n",
    "$\\hbar \\omega = \\sqrt{(8 E_c E_j)}$\n",
    "\n",
    "$E_{n, n+1} = \\sqrt{(8 E_c E_j)} - E_c(n+1)$"
   ]
  },
  {
   "cell_type": "code",
   "execution_count": 3,
   "metadata": {
    "ExecuteTime": {
     "end_time": "2019-12-12T16:21:04.054640Z",
     "start_time": "2019-12-12T16:21:04.045918Z"
    }
   },
   "outputs": [],
   "source": [
    "class Transmon:\n",
    "# properties\n",
    "    # n - number of levels\n",
    "    # psi - wave function\n",
    "    # C capacity\n",
    "    # Ej\n",
    "    # Ec\n",
    "    # w - array of freq 0-1, 1-2 ...\n",
    "    # psi - wave function (defaulf [1, 0 , 0 ...])\n",
    "    # gamma\n",
    "    # Cnb\n",
    "    # M\n",
    "    # I\n",
    "    # Ej1, Ej2\n",
    "    \n",
    "    def __init__(self, psi, C, Ij1, Ij2 = 0, M = 0, I = 0, Cnb = [0], gamma = 0):\n",
    "        \n",
    "        # number of levels\n",
    "        self.n = len(psi)\n",
    "        \n",
    "        #C, Ij1, Ij2, M, I, Cnb, Ej, Ec, w, Ej1, Ej2\n",
    "        self.C = C\n",
    "        self.Ij1 = Ij1\n",
    "        self.Ij2 = Ij2\n",
    "        self.M = M\n",
    "        self.I = I\n",
    "        self.Cnb = Cnb\n",
    "        self.gamma = gamma\n",
    "        \n",
    "        Ej1 = hbar * Ij1 / (2 * e)\n",
    "        Ej2 = hbar * Ij2 / (2 * e)\n",
    "        self.Ej1, self.Ej2 = Ej1, Ej2\n",
    "        Phiext = I * M\n",
    "        self.Ej = np.sqrt(Ej1**2 + Ej2**2 + 2 * Ej1 * Ej2 * np.cos(2 * e / hbar * Phiext))\n",
    "        self.Ec = e**2 / 2 / (C + np.sum(Cnb))\n",
    "        self.w = np.zeros(self.n - 1)\n",
    "        for i in range(1, self.n):\n",
    "            self.w[i-1] = np.sqrt(8 * self.Ec * self.Ej) / hbar - self.Ec * i / hbar\n",
    "            self.w[i-1] *= 10**(-9)\n",
    "\n",
    "        \n",
    "        #wave fucntion\n",
    "        self.psi = np.array(psi, dtype = complex)\n",
    "        if self.psi.size != self.n:\n",
    "            print('error, wrong size of transmon.psi')\n",
    "        self.psi = self.psi / np.linalg.norm(self.psi)\n",
    "        self.psi.shape = (self.n, 1)"
   ]
  },
  {
   "cell_type": "markdown",
   "metadata": {},
   "source": [
    "## Ocsillator"
   ]
  },
  {
   "cell_type": "markdown",
   "metadata": {},
   "source": [
    "$\\hbar \\omega = \\cfrac{\\hbar}{\\sqrt{L (C + C_{nb})}}$\n",
    "\n",
    "$E_{n-1, n} = \\hbar \\omega$"
   ]
  },
  {
   "cell_type": "code",
   "execution_count": 4,
   "metadata": {
    "ExecuteTime": {
     "end_time": "2019-12-12T16:21:04.062014Z",
     "start_time": "2019-12-12T16:21:04.056745Z"
    }
   },
   "outputs": [],
   "source": [
    "class Oscillator:\n",
    "# properties\n",
    "    # n - number of levels\n",
    "    # C - capacity\n",
    "    # psi - wave function\n",
    "    # w - array of freq 0-1, 1-2 ...\n",
    "    # psi - wave function (defaulf [1, 0 , 0 ...])\n",
    "    # gamma\n",
    "    \n",
    "    def __init__(self, psi, C, L, Cnb = [0], gamma = 0, noise = 1):\n",
    "        \n",
    "        # number of levels\n",
    "        self.n = len(psi)\n",
    "        \n",
    "        #gamma, noise, L, С, w\n",
    "        self.gamma = gamma\n",
    "        self.noise = noise\n",
    "        self.L = L\n",
    "        self.C = C\n",
    "        self.w = np.array([1/np.sqrt(L * (C + np.sum(Cnb)))] * (self.n - 1)) * 10**(-9)\n",
    "        \n",
    "        #wave fucntion\n",
    "        self.psi = np.array(psi, dtype = complex)\n",
    "        if self.psi.size != self.n:\n",
    "            print('error, wrong size of oscillator.psi')\n",
    "        self.psi = self.psi / np.linalg.norm(self.psi)\n",
    "        self.psi.shape = (self.n, 1)"
   ]
  },
  {
   "cell_type": "markdown",
   "metadata": {},
   "source": [
    "## Coupling\n",
    "\n",
    "$G = \\cfrac{C \\sqrt{\\omega_1\\omega_2}}{2\\sqrt{(C+C_1)(C+C_2)}}$"
   ]
  },
  {
   "cell_type": "code",
   "execution_count": 5,
   "metadata": {
    "ExecuteTime": {
     "end_time": "2019-12-12T16:21:04.066158Z",
     "start_time": "2019-12-12T16:21:04.063531Z"
    }
   },
   "outputs": [],
   "source": [
    "class Coupling():\n",
    "    \n",
    "    def __init__(self, C):\n",
    "        self.C = C\n",
    "        self.G = C / 2"
   ]
  },
  {
   "cell_type": "markdown",
   "metadata": {},
   "source": [
    "## InSignal\n",
    "\n",
    "накачка вида $\\Omega(t) (a^\\dagger + a)$"
   ]
  },
  {
   "cell_type": "code",
   "execution_count": 6,
   "metadata": {
    "ExecuteTime": {
     "end_time": "2019-12-12T16:21:04.076945Z",
     "start_time": "2019-12-12T16:21:04.067602Z"
    }
   },
   "outputs": [],
   "source": [
    "class InSignal():\n",
    "\n",
    "# drive\n",
    "# cur\n",
    "# change_freq 0 если обычная накачка, 1 если меняем частоту кубита\n",
    "# qmixer - quadrature_mixer\n",
    "    \n",
    "    def __init__(self, change_freq = 0):\n",
    "        self.dt = 1.\n",
    "        # Carrier signal\n",
    "        self.carrier_frequency = 5.\n",
    "        self.power = 1.\n",
    "        # Modulation signal\n",
    "        self.waveform = np.array([[], []], dtype = complex)\n",
    "        self.nop = 0 #длина waveform\n",
    "        self.clock = 1 #в наносекундах\n",
    "        # Input signal\n",
    "        self.drive = np.array([])\n",
    "        self.cur = 0\n",
    "        self.change_freq = change_freq\n",
    "        \n",
    "    def upd_insignal(self):\n",
    "        # checking\n",
    "        if self.nop != self.waveform[0].size or self.nop != self.waveform[1].size:\n",
    "            print('(!) self.nop != self.waveform[0].size == self.waveform[1].size')\n",
    "        if self.nop * self.waveform[0].size * self.waveform[1].size == 0:\n",
    "            return\n",
    "        # generating signal\n",
    "        t = np.arange(0, self.nop*self.clock, self.dt) \n",
    "            # streching signal\n",
    "        waveform_scretched = np.zeros((2, t.size))\n",
    "        plt.plot(t, stretch_array(self.waveform[0], t.size))\n",
    "        plt.plot(t, SignalProcessingWithCheby1(stretch_array(self.waveform[0], t.size), t))\n",
    "        plt.show()\n",
    "        waveform_scretched[0] = SignalProcessingWithCheby1(stretch_array(self.waveform[0], t.size), t, cutoff_freq = 1)\n",
    "        waveform_scretched[1] = SignalProcessingWithCheby1(stretch_array(self.waveform[1], t.size), t, cutoff_freq = 1)\n",
    "        VL = np.zeros((2, t.size))\n",
    "        VL[0] = self.power * np.sin(2 * np.pi * self.carrier_frequency * t)\n",
    "        VL[1] = self.power * np.cos(2 * np.pi * self.carrier_frequency * t)\n",
    "        self.drive = VL[0] * waveform_scretched[0] + VL[1] * waveform_scretched[1]\n",
    "        self.cur = self.drive.size"
   ]
  },
  {
   "cell_type": "markdown",
   "metadata": {},
   "source": [
    "## Filters"
   ]
  },
  {
   "cell_type": "markdown",
   "metadata": {},
   "source": [
    "### Cheby1"
   ]
  },
  {
   "cell_type": "code",
   "execution_count": 7,
   "metadata": {
    "ExecuteTime": {
     "end_time": "2019-12-12T16:21:04.087276Z",
     "start_time": "2019-12-12T16:21:04.078629Z"
    }
   },
   "outputs": [],
   "source": [
    "# по массиву частот и параметров возвращает фильрующий массив\n",
    "def Cheby1Filter(freq, n, rs, cutoff_freq):\n",
    "    # частоты, порядок фильтра, minimum attenuation in -dB, cutoff frequency\n",
    "    eps = np.sqrt(10**(0.1*rs) - 1) #расчитываем eps из minimum attenuation in -dB\n",
    "    c = np.append(np.zeros(n), eps)\n",
    "    freq = np.asarray(freq, dtype = complex)\n",
    "    cheby2_filter = 1/np.sqrt(1 + (np.polynomial.chebyshev.chebval(freq/cutoff_freq, c)**2))\n",
    "    return(cheby2_filter)\n",
    "\n",
    "#обрабатывает сигнал через cheby1\n",
    "def SignalProcessingWithCheby1(signal, time, n = 2, rs = 0.3, cutoff_freq = 1):\n",
    "    fsignal = np.fft.rfft(np.real(signal)) # F[signal]\n",
    "    freq = np.fft.rfftfreq(time.size, time[1] - time[0]) # преход в частотную область\n",
    "    fsignal_processed = fsignal * Cheby1Filter(freq, n, rs, cutoff_freq)\n",
    "    signal_processed = np.fft.irfft(fsignal_processed)\n",
    "    return(signal_processed)\n",
    "\n",
    "#пока не работает (!!!!!!!!!!!!!!!!!!!!!!!!!!!!!!!!!!!!!!!!!!)\n",
    "def SignalProcessingWithCheby1_withoutFsignal(signal, time, n = 2, rs = 0.3, cutoff_freq = 1):\n",
    "    freq = np.fft.rfftfreq(time.size, time[1] - time[0]) # преход в частотную область\n",
    "    fcheby1 = np.fft.irfft(Cheby1Filter(freq, n, rs, cutoff_freq))\n",
    "    signal_processed = fftconvolve(signal, fcheby1, 'same')\n",
    "    return(signal_processed)\n",
    "\n",
    "\n",
    "def test_SignalProcessingWithCheby1():\n",
    "    freq = np.arange(0, 10, 0.001)\n",
    "    k = Cheby1Filter(freq, 2, 0.3, 1)\n",
    "    plt.plot(freq, k)\n",
    "    plt.show()\n",
    "\n",
    "    t = np.arange(0, 1, 0.01)\n",
    "    x = np.sin(2 * np.pi* 0.3 * t)\n",
    "    plt.plot(t, x)\n",
    "    plt.plot(t, SignalProcessingWithCheby1(x, t, cutoff_freq = 1))\n",
    "\n",
    "    plt.show()"
   ]
  },
  {
   "cell_type": "markdown",
   "metadata": {},
   "source": [
    "### Cheby2"
   ]
  },
  {
   "cell_type": "code",
   "execution_count": 8,
   "metadata": {
    "ExecuteTime": {
     "end_time": "2019-12-12T16:21:04.095782Z",
     "start_time": "2019-12-12T16:21:04.090158Z"
    }
   },
   "outputs": [],
   "source": [
    "def Cheby2Filter(freq, n, rs, cutoff_freq):\n",
    "    # частоты, порядок фильтра, minimum attenuation in -dB, cutoff frequency\n",
    "    eps = 1/np.sqrt(10**(0.1*rs) - 1) #расчитываем eps из minimum attenuation in -dB\n",
    "    c = np.append(np.zeros(n), eps)\n",
    "    freq = np.asarray(freq, dtype = complex)\n",
    "    cheby2_filter = 1/np.sqrt(1 + 1/(np.polynomial.chebyshev.chebval(freq**(-1)*cutoff_freq, c)**2))\n",
    "    return(cheby2_filter)\n",
    "\n",
    "\n",
    "def SignalProcessingWithCheby2(signal, time, n = 4, rs = 30, cutoff_freq = 2*np.pi):\n",
    "    fsignal = np.fft.rfft(np.real(signal)) # F[signal]\n",
    "    freq = np.fft.rfftfreq(time.size, time[1] - time[0]) # преход в частотную область\n",
    "    fsignal_processed = fsignal * Cheby2Filter(freq, n, rs, cutoff_freq)\n",
    "    signal_processed = np.fft.irfft(fsignal_processed)\n",
    "    return(signal_processed)"
   ]
  },
  {
   "cell_type": "markdown",
   "metadata": {},
   "source": [
    "## Circuit"
   ]
  },
  {
   "cell_type": "code",
   "execution_count": 9,
   "metadata": {
    "ExecuteTime": {
     "end_time": "2019-12-12T16:21:04.115249Z",
     "start_time": "2019-12-12T16:21:04.098095Z"
    }
   },
   "outputs": [],
   "source": [
    "# Для записи цепей. Цепь записывается через массив элементов цепи (вершины) и список ребер.\n",
    "class Circuit():\n",
    "    \n",
    "# dt\n",
    "# elements\n",
    "# adjlist\n",
    "# psi\n",
    "# psiwrite\n",
    "# a \n",
    "# ad\n",
    "# H\n",
    "# Hwrite\n",
    "# HwriteRWB\n",
    "    \n",
    "    def __init__(self, elements, adjlist, dt):\n",
    "        self.dt = dt\n",
    "        self.elements = np.asarray(elements)\n",
    "        self.adjlist = np.asarray(adjlist)\n",
    "        self.psi, self.psiwrite = CreatePsi(self)\n",
    "        \n",
    "        # передаем dt в Insignal\n",
    "        for i in range (0, self.elements.size):\n",
    "            if self.elements[i].__class__.__name__ == 'InSignal':\n",
    "                self.elements[i].dt = dt\n",
    "        \n",
    "        # находим константы связи G\n",
    "        for i in range(0, self.elements.size):\n",
    "            if self.elements[i].__class__.__name__ == 'Coupling':\n",
    "                self.elements[i].G = self.elements[i].C / 2\n",
    "                tmp = self.adjlist[i][0]\n",
    "                self.elements[i].G *= np.sqrt(self.elements[tmp].w[0]/(self.elements[i].C + self.elements[tmp].C))\n",
    "                tmp = self.adjlist[i][1]\n",
    "                self.elements[i].G *= np.sqrt(self.elements[tmp].w[0]/(self.elements[i].C + self.elements[tmp].C))\n",
    "                \n",
    "            if self.elements[i].__class__.__name__ == 'Transmon': #перерасчет частоты трансмона из-за сосдених емкостей\n",
    "                Cnb = [0]\n",
    "                for el in adjlist[i]:\n",
    "                    if self.elements[el].__class__.__name__ == 'Coupling':\n",
    "                        Cnb = np.append(Cnb, self.elements[el].C)\n",
    "                self.elements[i] = Transmon(psi = self.elements[i].psi,\\\n",
    "                                            C = self.elements[i].C,\\\n",
    "                                            Ij1 = self.elements[i].Ij1,\n",
    "                                            Ij2 = self.elements[i].Ij2,\\\n",
    "                                            M = self.elements[i].M,\\\n",
    "                                            I = self.elements[i].I,\\\n",
    "                                            Cnb = Cnb,\\\n",
    "                                            gamma = self.elements[i].gamma)\n",
    "                \n",
    "            if self.elements[i].__class__.__name__ == 'Oscillator': #перерасчет частоты резонатора из-за сосдених емкостей\n",
    "                Cnb = [0]\n",
    "                for el in adjlist[i]:\n",
    "                    if self.elements[el].__class__.__name__ == 'Coupling':\n",
    "                        Cnb = np.append(Cnb, self.elements[el].C)\n",
    "                self.elements[i] = Oscillator(psi = self.elements[i].psi,\\\n",
    "                                              C = self.elements[i].C,\\\n",
    "                                              L = self.elements[i].L,\\\n",
    "                                              Cnb = Cnb,\\\n",
    "                                              gamma = self.elements[i].gamma,\\\n",
    "                                              noise = self.elements[i].noise)\n",
    "\n",
    "\n",
    "        self.a, self.ad = CreateAAd(self)\n",
    "        self.H = CreateHamiltonian(self)\n",
    "        self.Hwrite, self.HwriteRWB = CreateHamiltonianWrite(self)\n",
    "        self.rwb, self.rwbd = CreateRWB(self)\n",
    "        \n",
    "    def display_info(self):\n",
    "        print(self.Hwrite)\n",
    "        print(self.HwriteRWB)\n",
    "        \n",
    "    def upd_insignal(self, element_cur, drive): #индекс InSignal в circuit и массив сигналов\n",
    "        #time = np.arange(0, drive.size) * self.dt\n",
    "        #drive = SignalProcessingWithCheby1(drive, time, n = 2, rs = 0.3, cutoff_freq = 2*np.pi)\n",
    "        if self.elements[element_cur].__class__.__name__ != 'InSignal':\n",
    "            print('error, singnal is given not to InSignal vertice but to vertice ' + str(element_cur) + ' '\\\n",
    "                  +  self.elements[element_cur].__class__.__name__)\n",
    "        else:\n",
    "            self.elements[element_cur].drive = np.asarray(drive)\n",
    "            self.elements[element_cur].cur = 0\n",
    "            \n",
    "    def gen_sin_sig(self, element_cur, t_long, ampl):\n",
    "        #circuit, element_cur - current of the resonator in circuit\n",
    "        #t_long - long of the impulse (dt is known form circuit.dt)\n",
    "        #ampl - amplitude of oscillations\n",
    "        if self.elements[element_cur].__class__.__name__ != 'InSignal':\n",
    "            print(\"Try to applay dispersive_readout not to the InSignal\")\n",
    "            print(self.elements[element_cur].__class__.__name__)\n",
    "        else:\n",
    "            time = np.arange(0, t_long, self.dt)\n",
    "            drive = ampl * np.sin(self.elements[self.adjlist[element_cur][0]].w[0] * time)\n",
    "            self.upd_insignal(element_cur, drive)\n",
    "            return(drive.size)"
   ]
  },
  {
   "cell_type": "markdown",
   "metadata": {},
   "source": [
    "# Operators (fuctions)"
   ]
  },
  {
   "cell_type": "markdown",
   "metadata": {},
   "source": [
    "## CreatePsi"
   ]
  },
  {
   "cell_type": "code",
   "execution_count": 10,
   "metadata": {
    "ExecuteTime": {
     "end_time": "2019-12-12T16:21:04.121327Z",
     "start_time": "2019-12-12T16:21:04.116756Z"
    }
   },
   "outputs": [],
   "source": [
    "# волновая функиция по circuit \n",
    "def CreatePsi(circuit):\n",
    "    psi = np.array([], dtype = complex)\n",
    "    psiwrite = chr(936) + ' = '\n",
    "    for i in range(0, circuit.elements.size):\n",
    "        if 'psi' in circuit.elements[i].__dict__:\n",
    "            if psi.size == 0:\n",
    "                psi = circuit.elements[i].__dict__.get('psi')\n",
    "                psiwrite = psiwrite + chr(936) + str(i)\n",
    "            else:\n",
    "                psi = np.kron(psi, circuit.elements[i].__dict__.get('psi'))\n",
    "                psiwrite = psiwrite + chr(8855) + chr(936) + str(i)\n",
    "    return(psi, psiwrite)"
   ]
  },
  {
   "cell_type": "markdown",
   "metadata": {},
   "source": [
    "## CreateAAd"
   ]
  },
  {
   "cell_type": "code",
   "execution_count": 11,
   "metadata": {
    "ExecuteTime": {
     "end_time": "2019-12-12T16:21:04.130342Z",
     "start_time": "2019-12-12T16:21:04.122911Z"
    }
   },
   "outputs": [],
   "source": [
    "# операторы рождения и уничтожения по circuit\n",
    "# RWB = 0. - не учитывается RWB\n",
    "# RWB = 1. - учитывается (1 число шагов по времени)\n",
    "def CreateAAd(circuit):\n",
    "    n = circuit.psi.size\n",
    "    a = np.stack([np.identity(n, dtype = complex)] * circuit.elements.size)\n",
    "    ad = np.stack([np.identity(n, dtype = complex)] * circuit.elements.size)\n",
    "    cnt = 1\n",
    "    for i in range(0, circuit.elements.size):\n",
    "        if 'psi' in circuit.elements[i].__dict__: \n",
    "            if cnt == 1:\n",
    "                tmpa = np.sqrt(np.diag(np.arange(1, circuit.elements[i].n, dtype = complex), k = 1))\n",
    "                tmpad = tmpa.transpose()\n",
    "            else:\n",
    "                tmpa = np.sqrt(np.diag(np.arange(1, circuit.elements[i].n, dtype = complex), k = 1))\n",
    "                tmpad = tmpa.transpose()\n",
    "                tmpa = np.kron(np.identity(cnt), tmpa)\n",
    "                tmpad = np.kron(np.identity(cnt), tmpad)\n",
    "            cnt *=  circuit.elements[i].n\n",
    "            if cnt < circuit.psi.size:\n",
    "                tmpa = np.kron(tmpa, np.identity(circuit.psi.size // cnt))\n",
    "                tmpad = np.kron(tmpad, np.identity(circuit.psi.size // cnt))\n",
    "            a[i] = tmpa\n",
    "            ad[i] = tmpad\n",
    "    return(a, ad)"
   ]
  },
  {
   "cell_type": "code",
   "execution_count": 12,
   "metadata": {
    "ExecuteTime": {
     "end_time": "2019-12-12T16:21:04.140637Z",
     "start_time": "2019-12-12T16:21:04.131947Z"
    }
   },
   "outputs": [],
   "source": [
    "def CreateRWB(circuit):\n",
    "    n = circuit.psi.size\n",
    "    rwb = np.stack([np.identity(n, dtype = complex)] * circuit.elements.size)\n",
    "    rwbd = np.stack([np.identity(n, dtype = complex)] * circuit.elements.size)\n",
    "    cnt = 1\n",
    "    for i in range(0, circuit.elements.size):\n",
    "        if 'psi' in circuit.elements[i].__dict__: \n",
    "            if cnt == 1:\n",
    "                tmpa = np.diag(np.append(np.zeros(1), np.exp(- 1j * circuit.elements[i].w * circuit.dt)))\n",
    "                tmpad = np.diag(np.append(np.exp(1j * circuit.elements[i].w * circuit.dt), np.zeros(1)))\n",
    "            else:\n",
    "                tmpa = np.diag(np.append(np.zeros(1), np.exp(- 1j * circuit.elements[i].w * circuit.dt)))\n",
    "                tmpad = np.diag(np.append(np.exp(1j * circuit.elements[i].w * circuit.dt), np.zeros(1)))\n",
    "                tmpa = np.kron(np.identity(cnt), tmpa)\n",
    "                tmpad = np.kron(np.identity(cnt), tmpad)\n",
    "            cnt *=  circuit.elements[i].n\n",
    "            if cnt < circuit.psi.size:\n",
    "                tmpa = np.kron(tmpa, np.identity(circuit.psi.size // cnt))\n",
    "                tmpad = np.kron(tmpad, np.identity(circuit.psi.size // cnt))\n",
    "            rwb[i] = tmpa\n",
    "            rwbd[i] = tmpad\n",
    "    return(rwb, rwbd)"
   ]
  },
  {
   "cell_type": "markdown",
   "metadata": {},
   "source": [
    "## CreateHamiltonian"
   ]
  },
  {
   "cell_type": "code",
   "execution_count": 13,
   "metadata": {
    "ExecuteTime": {
     "end_time": "2019-12-12T16:21:04.156594Z",
     "start_time": "2019-12-12T16:21:04.142212Z"
    }
   },
   "outputs": [],
   "source": [
    "# по circuit выводит гамильтониан системы\n",
    "def CreateHamiltonian(circuit):\n",
    "    H = np.zeros((circuit.psi.size, circuit.psi.size), dtype = complex)\n",
    "    for i in range(0, circuit.elements.size):\n",
    "        # член взаимодействия\n",
    "        if circuit.elements[i].__class__.__name__ == 'Coupling':\n",
    "            tmp = circuit.adjlist[i][0]\n",
    "            tmpH1 = circuit.ad[tmp] + circuit.a[tmp]\n",
    "            tmp = circuit.adjlist[i][1]\n",
    "            tmpH2 = circuit.ad[tmp] + circuit.a[tmp]\n",
    "            H = H + circuit.elements[i].G * np.dot(tmpH1, tmpH2)\n",
    "        \n",
    "        # член затухания\n",
    "        if circuit.elements[i].__class__.__name__ == 'Transmon' or\\\n",
    "           circuit.elements[i].__class__.__name__ == 'Oscillator':\n",
    "            H = H - 1j * circuit.elements[i].gamma * np.dot(circuit.ad[i], circuit.a[i]) / 2.\n",
    "        \n",
    "        # шум\n",
    "        if circuit.elements[i].__class__.__name__ == 'Oscillator':\n",
    "            #  просто проверка на всякий случай\n",
    "            if circuit.elements[i].gamma * circuit.elements[i].noise != 0:\n",
    "                x = np.dot(np.conj(circuit.psi.transpose()), np.dot((circuit.ad[i] + circuit.a[i]), circuit.psi))\n",
    "                J = (np.real(x)/2* np.sqrt(circuit.elements[i].gamma) + random.gauss(0, 1)/np.sqrt(circuit.dt))\n",
    "                H = H + 1j * np.sqrt(circuit.elements[i].gamma) * J * circuit.a[i]\n",
    "                \n",
    "        # накачка\n",
    "        if circuit.elements[i].__class__.__name__ == 'InSignal':\n",
    "            if circuit.elements[i].cur < circuit.elements[i].drive.size:\n",
    "                tmp = circuit.adjlist[i][0]\n",
    "                if circuit.elements[i].change_freq == 0: #добавляем накачку\n",
    "                    H = H - circuit.elements[i].drive[circuit.elements[i].cur] * (circuit.a[tmp] + circuit.ad[tmp])\n",
    "                elif circuit.elements[i].change_freq == 1: #меняем частоту кубита\n",
    "                    if circuit.elements[tmp].__class__.__name__ == 'Transmon':\n",
    "                        circuit.elements[tmp] = Transmon(psi = circuit.elements[tmp].psi,\\\n",
    "                                                         C = circuit.elements[tmp].C,\\\n",
    "                                                         Ij1 = circuit.elements[tmp].Ij1,\n",
    "                                                         Ij2 = circuit.elements[tmp].Ij2,\\\n",
    "                                                         M = circuit.elements[tmp].M,\\\n",
    "                                                         I = circuit.elements[i].drive[circuit.elements[i].cur],\\\n",
    "                                                         Cnb = circuit.elements[tmp].Cnb,\\\n",
    "                                                         gamma = circuit.elements[tmp].gamma)\n",
    "                        circuit.rwb, circuit.rwbd = CreateRWB(circuit)\n",
    "                    else:\n",
    "                        print('You are changing frequency of the wrong element (' \\\n",
    "                              + circuit.elements[i].__class__.__name__ +')')\n",
    "                circuit.elements[i].cur += 1\n",
    "                    \n",
    "    return (H)"
   ]
  },
  {
   "cell_type": "code",
   "execution_count": 14,
   "metadata": {
    "ExecuteTime": {
     "end_time": "2019-12-12T16:21:04.167316Z",
     "start_time": "2019-12-12T16:21:04.160086Z"
    }
   },
   "outputs": [],
   "source": [
    "def CreateHamiltonianWrite(circuit):\n",
    "    Hwrite = 'H = '\n",
    "    HwriteRWB = 'H_RWB = '\n",
    "    for i in range(0, circuit.elements.size):\n",
    "        if circuit.elements[i].__class__.__name__ == 'Transmon' or\\\n",
    "           circuit.elements[i].__class__.__name__ == 'Oscillator':\n",
    "            Hwrite = Hwrite + ' + \\u0127\\u03C9_' + str(i) + 'a' + chr(8314) + '_' + str(i) + 'a_' + str(i)\n",
    "        if circuit.elements[i].__class__.__name__ == 'Coupling':\n",
    "            Hwrite = Hwrite + ' + \\u0127g_' + str(i)\n",
    "            HwriteRWB = HwriteRWB + ' + \\u0127g_' + str(i)\n",
    "            tmp = circuit.adjlist[i][0]\n",
    "            Hwrite = Hwrite + '(' + 'a' + chr(8314) + '_' + str(tmp) + ' + a_' + str(tmp) + ')'\n",
    "            HwriteRWB = HwriteRWB + '(' + 'a' + chr(8314) + '_' + str(tmp) + ' + a_' + str(tmp) + ')'\n",
    "            tmp = circuit.adjlist[i][1]\n",
    "            Hwrite = Hwrite + '(' + 'a' + chr(8314) + '_' + str(tmp) + ' + a_' + str(tmp) + ')'\n",
    "            HwriteRWB = HwriteRWB + '(' + 'a' + chr(8314) + '_' + str(tmp) + ' + a_' + str(tmp) + ')'\n",
    "    return (Hwrite, HwriteRWB)"
   ]
  },
  {
   "cell_type": "markdown",
   "metadata": {},
   "source": [
    "## RK4"
   ]
  },
  {
   "cell_type": "code",
   "execution_count": 15,
   "metadata": {
    "ExecuteTime": {
     "end_time": "2019-12-12T16:21:04.175190Z",
     "start_time": "2019-12-12T16:21:04.169099Z"
    }
   },
   "outputs": [],
   "source": [
    "# evolution for RK4\n",
    "def FuncEvolution(psi, circuit):\n",
    "    dpsi = - 1j * np.dot(circuit.H, psi)\n",
    "    return(dpsi)\n",
    "\n",
    "def RK4(circuit):\n",
    "    k1 = FuncEvolution(circuit.psi, circuit)\n",
    "    k2 = FuncEvolution(circuit.psi + circuit.dt/2 * k1, circuit)\n",
    "    k3 = FuncEvolution(circuit.psi + circuit.dt/2 * k2, circuit)\n",
    "    k4 = FuncEvolution(circuit.psi + circuit.dt * k3, circuit)\n",
    "    circuit.psi = (circuit.psi + circuit.dt/6 * (k1 + 2*k2 + 2*k3 + k4))\n",
    "    circuit.psi = circuit.psi / np.linalg.norm(circuit.psi)\n",
    "    \n",
    "    #recount annihilation and creation operatored due to RWB\n",
    "    #circuit.a, circuit.ad = CreateAAd(circuit, RWB_time)\n",
    "    for i in range(0, circuit.elements.size):\n",
    "        if 'psi' in circuit.elements[i].__dict__: \n",
    "            circuit.a[i] = np.dot(circuit.a[i], circuit.rwb[i])\n",
    "            circuit.ad[i] = np.dot(circuit.ad[i], circuit.rwbd[i])\n",
    "    \n",
    "    \n",
    "    #recount Hamiltonian\n",
    "    circuit.H = CreateHamiltonian(circuit)\n",
    "            \n",
    "    return(circuit)"
   ]
  },
  {
   "cell_type": "markdown",
   "metadata": {},
   "source": [
    "## Find_freq"
   ]
  },
  {
   "cell_type": "code",
   "execution_count": 16,
   "metadata": {
    "ExecuteTime": {
     "end_time": "2019-12-12T16:21:04.212781Z",
     "start_time": "2019-12-12T16:21:04.208974Z"
    }
   },
   "outputs": [],
   "source": [
    "# по сигналу находит его частоту\n",
    "def Find_freq(x, dt, plot = False):\n",
    "    fx = np.fft.rfft(np.real(x)) # F[signal]\n",
    "    freq = np.fft.rfftfreq(x.size, dt) # преход в частотную область\n",
    "    if plot:\n",
    "        plt.plot(freq, np.abs(fx))\n",
    "        plt.show()\n",
    "    return(freq[np.argmax(np.abs(fx))])"
   ]
  },
  {
   "cell_type": "markdown",
   "metadata": {},
   "source": [
    "## func_for_disp_readout"
   ]
  },
  {
   "cell_type": "code",
   "execution_count": 17,
   "metadata": {
    "ExecuteTime": {
     "end_time": "2019-12-12T16:21:04.254222Z",
     "start_time": "2019-12-12T16:21:04.251357Z"
    }
   },
   "outputs": [],
   "source": [
    "def func_for_disp_readout(t, gamma, a, phi, f):\n",
    "    return(a * np.sin(2*np.pi*f*t + phi) * np.exp(- gamma * t))"
   ]
  },
  {
   "cell_type": "markdown",
   "metadata": {},
   "source": [
    "## stretch_array"
   ]
  },
  {
   "cell_type": "code",
   "execution_count": 18,
   "metadata": {
    "ExecuteTime": {
     "end_time": "2019-12-12T16:21:04.294079Z",
     "start_time": "2019-12-12T16:21:04.290229Z"
    }
   },
   "outputs": [],
   "source": [
    "def stretch_array(originalArray, targetSize):\n",
    "    x = np.linspace(0, originalArray.size, num=targetSize)\n",
    "    if targetSize >= originalArray.size:\n",
    "        x = -np.flip(x, axis=0) + originalArray.size\n",
    "        x[-1] = originalArray.size - 1\n",
    "    if targetSize < originalArray.size:\n",
    "        print('you want to squeeze array')\n",
    "    x = originalArray[x.astype(int)]\n",
    "    return x"
   ]
  },
  {
   "cell_type": "markdown",
   "metadata": {},
   "source": [
    "## Quadrature mixer func"
   ]
  },
  {
   "cell_type": "markdown",
   "metadata": {},
   "source": [
    "<img src=\"img/КвадрСмес.png\" align=\"left\" alt=\"Drawing\" style=\"width: 500px;\"/>"
   ]
  },
  {
   "cell_type": "code",
   "execution_count": 19,
   "metadata": {
    "ExecuteTime": {
     "end_time": "2019-12-12T16:21:04.372638Z",
     "start_time": "2019-12-12T16:21:04.365347Z"
    }
   },
   "outputs": [],
   "source": [
    "def Quadrature_mixer_func():\n",
    "    A = 1\n",
    "    I0 = 0.3\n",
    "    Q0 = -0.3\n",
    "    fc = 10\n",
    "    fI = fQ = 2\n",
    "    L = 1\n",
    "\n",
    "    t = np.arange(0, 1, 0.01)\n",
    "    VL = A * np.sin(2 * np.pi * fc * t)\n",
    "    VLL = A * np.cos(2 * np.pi * fc * t)\n",
    "    I = I0 * np.sin(2 * np.pi * fI * t)\n",
    "    Q = Q0 * np.cos(2 * np.pi * fQ * t)\n",
    "    VR = VL * I * L + VLL * Q * L\n",
    "\n",
    "    #checking\n",
    "    VR_check = 0.5 * A * (I0 + Q0) * np.cos(2 * np.pi * (fc - fI) * t) -\\\n",
    "               0.5 * A * (I0 - Q0) * np.cos(2 * np.pi * (fc + fI) * t)\n",
    "\n",
    "    fig, (ax1, ax2, ax3) = plt.subplots(3, 1, sharex=True)\n",
    "    ax1.plot(t, VL + VLL)\n",
    "    ax1.set_title(\"Carrier signal\")\n",
    "    ax2.plot(t, I + Q)\n",
    "    ax2.set_title(\"Modulation signal\")\n",
    "    ax3.plot(t, VR)\n",
    "    ax3.plot(t, VR_check)\n",
    "    ax3.set_title(\"Output signal\")\n",
    "    ax3.set_xlabel(\"time\")\n",
    "    fig.tight_layout()\n",
    "    plt.show()"
   ]
  },
  {
   "cell_type": "markdown",
   "metadata": {},
   "source": [
    "# Devices"
   ]
  },
  {
   "cell_type": "markdown",
   "metadata": {},
   "source": [
    "## LO"
   ]
  },
  {
   "cell_type": "code",
   "execution_count": 20,
   "metadata": {
    "ExecuteTime": {
     "end_time": "2019-12-12T16:21:04.446414Z",
     "start_time": "2019-12-12T16:21:04.443120Z"
    }
   },
   "outputs": [],
   "source": [
    "class LO():\n",
    "    def __init__(self, insignal):\n",
    "        self.insignal = insignal\n",
    "    \n",
    "    def set_frequency(self, frequency):\n",
    "        self.insignal.carrier_frequency = frequency\n",
    "    \n",
    "    def set_power(self, power):\n",
    "        self.insignal.power = power"
   ]
  },
  {
   "cell_type": "markdown",
   "metadata": {},
   "source": [
    "## AWG"
   ]
  },
  {
   "cell_type": "code",
   "execution_count": 21,
   "metadata": {
    "ExecuteTime": {
     "end_time": "2019-12-12T16:21:04.489266Z",
     "start_time": "2019-12-12T16:21:04.484720Z"
    }
   },
   "outputs": [],
   "source": [
    "class AWG():\n",
    "    def __init__(self, insignal):\n",
    "        self.insignal = insignal\n",
    "    \n",
    "    def set_waveform(self, waveform, channel): #channel = 0, 1\n",
    "        if self.insignal.waveform[channel].size == waveform.size:\n",
    "            self.insignal.waveform[channel] = np.asarray(waveform)\n",
    "        else:\n",
    "            print('insignal.nop != waveform.size')\n",
    "    \n",
    "    def set_nop(self, nop):\n",
    "        self.insignal.nop = nop\n",
    "        self.insignal.waveform = np.reshape(np.zeros(2 * nop), (2, nop))\n",
    "    \n",
    "    def set_clock(self, clock):\n",
    "        self.insignal.clock = clock"
   ]
  },
  {
   "cell_type": "markdown",
   "metadata": {},
   "source": [
    "## Measuring Instrument"
   ]
  },
  {
   "cell_type": "code",
   "execution_count": 54,
   "metadata": {
    "ExecuteTime": {
     "end_time": "2019-12-12T16:41:31.070530Z",
     "start_time": "2019-12-12T16:41:30.975328Z"
    }
   },
   "outputs": [],
   "source": [
    "class MI():\n",
    "    \n",
    "    def __init__(self):\n",
    "        self.circuit = None\n",
    "        self.nums = 1\n",
    "        self.nop = 0\n",
    "    \n",
    "    \n",
    "    def set_circuit(self, circuit):\n",
    "        self.circuit = circuit\n",
    "    \n",
    "    \n",
    "    def set_nums(self, nums):\n",
    "        self.nums = nums\n",
    "    \n",
    "    \n",
    "    \n",
    "    def set_nop(self, nop):\n",
    "        self.nop = nop\n",
    "        \n",
    "        \n",
    "        \n",
    "        \n",
    "    def measure_everything(self, measure_elements = None, cov_signals = np.array([])):\n",
    "        # fill measure elements\n",
    "        if measure_elements == None:\n",
    "            measure_elements = np.array([], dtype = int)\n",
    "            for i in range (self.circuit.elements.size):\n",
    "                if self.circuit.elements[i].__class__.__name__ == 'Oscillator' or\\\n",
    "                   self.circuit.elements[i].__class__.__name__ == 'Transmon':\n",
    "                    measure_elements = np.append(measure_elements, i)\n",
    "        measure_elements = np.asarray(measure_elements)\n",
    "        #create result measure\n",
    "        measure = {'x'+ str(el): np.zeros((self.nop), dtype = complex) for el in measure_elements}\n",
    "        measure.update({'z'+ str(el): np.zeros((self.nop), dtype = complex) for el in measure_elements})\n",
    "        measuretmp = measure.copy()\n",
    "        #cov\n",
    "        #print(cov_signals)\n",
    "        for j in range(cov_signals.size):\n",
    "            for key1 in measuretmp.keys():\n",
    "                measure.update({key1 + '@sig' + str(j): np.zeros((self.nums), dtype = complex)})\n",
    "        \n",
    "        for num in range(0, self.nums):\n",
    "            circuit = copy.copy(self.circuit)\n",
    "            # upd insignals\n",
    "            for i in range (0, self.circuit.elements.size):\n",
    "                if self.circuit.elements[i].__class__.__name__ == 'InSignal':\n",
    "                    self.circuit.elements[i].upd_insignal()\n",
    "            \n",
    "            #evolution\n",
    "            for el in measure_elements:\n",
    "                measuretmp['x' + str(el)][0] = np.dot(np.conj(circuit.psi.transpose()),\\\n",
    "                                                   np.dot(circuit.ad[el] + circuit.a[el], circuit.psi))\n",
    "                measuretmp['z' + str(el)][0] = np.dot(np.conj(circuit.psi.transpose()), np.dot(circuit.ad[el],\\\n",
    "                                                    np.dot(circuit.a[el], circuit.psi)))\n",
    "            for i in range(1, self.nop):\n",
    "                circuit = RK4(circuit)\n",
    "                for el in measure_elements:\n",
    "                    measuretmp['x' + str(el)][i] = np.dot(np.conj(circuit.psi.transpose()),\\\n",
    "                                                     np.dot(circuit.ad[el] + circuit.a[el], circuit.psi))\n",
    "                    measuretmp['z' + str(el)][i] = np.dot(np.conj(circuit.psi.transpose()), np.dot(circuit.ad[el],\\\n",
    "                                                        np.dot(circuit.a[el], circuit.psi)))\n",
    "            #cov\n",
    "            for j in range(cov_signals.size):\n",
    "                for key1 in measuretmp.keys():\n",
    "                    measure[key1 + '@sig' + str(j)][j] = np.sum(measuretmp[key1] * cov_signals[j])\n",
    "\n",
    "            for key in measuretmp.keys():\n",
    "                measure[key] += measuretmp[key]\n",
    "                \n",
    "        return measure\n",
    "        \n",
    "    \n",
    "    \n",
    "    \n",
    "    def measure_insignal(self):\n",
    "        cnt = 0 #число insignal\n",
    "        cur_insignal = np.array([], dtype = int)\n",
    "        max_drive_nop = 0 # длина самого длинного drive\n",
    "        for i in range (0, self.circuit.elements.size):\n",
    "            if self.circuit.elements[i].__class__.__name__ == 'InSignal':\n",
    "                self.circuit.elements[i].upd_insignal()\n",
    "                cnt += 1\n",
    "                cur_insignal = np.append(cur_insignal, i)\n",
    "                max_drive_nop = max(max_drive_nop, self.circuit.elements[i].drive.size)\n",
    "                \n",
    "        if cnt == 0:\n",
    "            print('(!) no InSignals are found')\n",
    "        else:\n",
    "            output = np.reshape(np.zeros(cnt * max_drive_nop), (cnt, max_drive_nop))\n",
    "            for i in range(0, cnt):\n",
    "                output[i][:self.circuit.elements[cur_insignal[i]].drive.size] =\\\n",
    "                    self.circuit.elements[cur_insignal[i]].drive\n",
    "                \n",
    "        return cur_insignal, output"
   ]
  },
  {
   "cell_type": "markdown",
   "metadata": {
    "ExecuteTime": {
     "end_time": "2019-12-09T11:45:56.983367Z",
     "start_time": "2019-12-09T11:45:56.981211Z"
    }
   },
   "source": [
    "# exp"
   ]
  },
  {
   "cell_type": "markdown",
   "metadata": {},
   "source": [
    "## input"
   ]
  },
  {
   "cell_type": "markdown",
   "metadata": {},
   "source": [
    "### sim input"
   ]
  },
  {
   "cell_type": "code",
   "execution_count": 31,
   "metadata": {
    "ExecuteTime": {
     "end_time": "2019-12-12T16:23:10.890666Z",
     "start_time": "2019-12-12T16:23:10.760242Z"
    }
   },
   "outputs": [
    {
     "data": {
      "image/png": "[encoded data removed]",
      "text/plain": [
       "<Figure size 432x288 with 1 Axes>"
      ]
     },
     "metadata": {
      "needs_background": "light"
     },
     "output_type": "display_data"
    },
    {
     "name": "stdout",
     "output_type": "stream",
     "text": [
      "[0] (1, 200)\n"
     ]
    }
   ],
   "source": [
    "# цепь\n",
    "dt = 0.01\n",
    "t_end = 2\n",
    "clock = 0.1\n",
    "insignal = InSignal()\n",
    "circuit = Circuit([insignal], [[]], dt = dt)\n",
    "# приборы\n",
    "lo = LO(insignal)\n",
    "awg = AWG(insignal)\n",
    "mi = MI()\n",
    "mi.set_circuit(circuit)\n",
    "\n",
    "# paraments\n",
    "A = 1\n",
    "I0 = 0.3\n",
    "Q0 = -0.3\n",
    "fc = 10\n",
    "fI = fQ = 2\n",
    "\n",
    "# подача сигналов\n",
    "lo.set_frequency(fc)\n",
    "lo.set_power(1.)\n",
    "\n",
    "t_clock = np.arange(0, t_end, clock)\n",
    "awg.set_nop(t_clock.size)\n",
    "awg.set_waveform(I0 * np.sin(2 * np.pi * fI * t_clock), 0)\n",
    "awg.set_waveform(Q0 * np.cos(2 * np.pi * fQ * t_clock), 1)\n",
    "awg.set_clock(clock)\n",
    "\n",
    "t = np.arange(0, t_end, dt)\n",
    "# считываение сигналов\n",
    "cur_insignal, output = mi.measure_insignal()\n",
    "print(cur_insignal, output.shape)"
   ]
  },
  {
   "cell_type": "markdown",
   "metadata": {},
   "source": [
    "### check input"
   ]
  },
  {
   "cell_type": "code",
   "execution_count": 32,
   "metadata": {
    "ExecuteTime": {
     "end_time": "2019-12-12T16:23:12.302090Z",
     "start_time": "2019-12-12T16:23:11.669236Z"
    }
   },
   "outputs": [
    {
     "data": {
      "image/png": "[encoded data removed]",
      "text/plain": [
       "<Figure size 432x288 with 3 Axes>"
      ]
     },
     "metadata": {
      "needs_background": "light"
     },
     "output_type": "display_data"
    },
    {
     "data": {
      "image/png": "[encoded data removed]",
      "text/plain": [
       "<Figure size 432x288 with 1 Axes>"
      ]
     },
     "metadata": {
      "needs_background": "light"
     },
     "output_type": "display_data"
    }
   ],
   "source": [
    "#A = 1\n",
    "#I0 = 0.3ß\n",
    "#Q0 = -0.3\n",
    "#fc = 10\n",
    "#fI = fQ = 2\n",
    "L = 1\n",
    "\n",
    "VL = A * np.sin(2 * np.pi * fc * t)\n",
    "VLL = A * np.cos(2 * np.pi * fc * t)\n",
    "I = I0 * np.sin(2 * np.pi * fI * t)\n",
    "Q = Q0 * np.cos(2 * np.pi * fQ * t)\n",
    "VR = VL * I * L + VLL * Q * L\n",
    "\n",
    "#checking\n",
    "VR_check = 0.5 * A * (I0 + Q0) * np.cos(2 * np.pi * (fc - fI) * t) -\\\n",
    "           0.5 * A * (I0 - Q0) * np.cos(2 * np.pi * (fc + fI) * t)\n",
    "\n",
    "fig, (ax1, ax2, ax3) = plt.subplots(3, 1, sharex=True)\n",
    "ax1.plot(t, VL + VLL)\n",
    "ax1.set_title(\"Carrier signal\")\n",
    "ax2.plot(t, I + Q)\n",
    "ax2.set_title(\"Modulation signal\")\n",
    "ax3.plot(t, VR)\n",
    "ax3.plot(t, VR_check)\n",
    "ax3.set_title(\"Output signal\")\n",
    "ax3.set_xlabel(\"time\")\n",
    "fig.tight_layout()\n",
    "plt.show()\n",
    "\n",
    "plt.plot(t, VR)\n",
    "plt.plot(t, output[cur_insignal[0]])\n",
    "plt.show()"
   ]
  },
  {
   "cell_type": "markdown",
   "metadata": {
    "ExecuteTime": {
     "end_time": "2019-12-11T09:55:37.756058Z",
     "start_time": "2019-12-11T09:55:37.753764Z"
    }
   },
   "source": [
    "## disp_readout output"
   ]
  },
  {
   "cell_type": "code",
   "execution_count": 55,
   "metadata": {
    "ExecuteTime": {
     "end_time": "2019-12-12T16:41:49.314076Z",
     "start_time": "2019-12-12T16:41:38.426004Z"
    }
   },
   "outputs": [],
   "source": [
    "C = 5*10**(-14)\n",
    "Ij = 40*e**3/hbar/C\n",
    "L = 2 * 10**(-8)\n",
    "M = 2 * 10**(-8)\n",
    "#I = 1.72 * 10**(-8)\n",
    "Time = 200\n",
    "dt = 0.01\n",
    "nums = 2\n",
    "\n",
    "transmon = Transmon(psi = [1, 0], C = C, Ij1 = Ij, Ij2 = 0, M = 0)\n",
    "coupling = Coupling(C /60)\n",
    "alpha = 1\n",
    "n_osc = 6\n",
    "gamma = 0.01\n",
    "osc = Oscillator(psi= np.exp(-alpha**2/2)*alpha**np.arange(n_osc)/np.sqrt(scipy.special.factorial(np.arange(n_osc))),\\\n",
    "                 L = L, C = C/1., gamma = gamma, noise = 1)\n",
    "drive_osc = InSignal()\n",
    "circuit = Circuit([transmon, coupling, osc, drive_osc],  [[1], [0, 2], [1], [2]], dt = dt)\n",
    "\n",
    "\n",
    "mi = MI()\n",
    "mi.set_circuit(circuit)\n",
    "mi.set_nums(nums)\n",
    "mi.set_nop(round(Time//dt + 1))\n",
    "signal0 = mi.measure_everything()\n",
    "\n",
    "transmon = Transmon(psi = [0, 1], C = C, Ij1 = Ij, Ij2 = 0, M = 0)\n",
    "circuit = Circuit([transmon, coupling, osc, drive_osc],  [[1], [0, 2], [1], [2]], dt = dt)\n",
    "mi.set_circuit(circuit)\n",
    "signal1 = mi.measure_everything()"
   ]
  },
  {
   "cell_type": "code",
   "execution_count": 56,
   "metadata": {
    "ExecuteTime": {
     "end_time": "2019-12-12T16:41:49.564115Z",
     "start_time": "2019-12-12T16:41:49.316299Z"
    }
   },
   "outputs": [
    {
     "data": {
      "image/png": "[encoded data removed]",
      "text/plain": [
       "<Figure size 1080x360 with 2 Axes>"
      ]
     },
     "metadata": {
      "needs_background": "light"
     },
     "output_type": "display_data"
    }
   ],
   "source": [
    "time = np.linspace(0, Time, Time // dt + 1)\n",
    "fig, (f1, f2) = plt.subplots(\n",
    "    nrows = 1, ncols = 2,\n",
    "    figsize=(15, 5)\n",
    ")\n",
    "f1.plot(time, np.abs(signal0['z0'])/nums)\n",
    "f1.set_title(\"Time dependence of the enegry of the transmon <n>\")\n",
    "f1.set_xlabel('time, ns')\n",
    "f1.set_ylim(-0.1, 1.1)\n",
    "#f2.plot(time, np.abs(x2mean))\n",
    "f2.plot(time, np.abs(signal0['z2'])/nums)\n",
    "f2.set_title(\"Time dependence of the enegry of the resonator <n>\")\n",
    "f2.set_xlabel('time, ns')\n",
    "plt.show()"
   ]
  },
  {
   "cell_type": "code",
   "execution_count": 46,
   "metadata": {
    "ExecuteTime": {
     "end_time": "2019-12-12T16:38:18.832036Z",
     "start_time": "2019-12-12T16:38:13.448777Z"
    }
   },
   "outputs": [
    {
     "name": "stdout",
     "output_type": "stream",
     "text": [
      "dict_keys(['x0', 'x2', 'z0', 'z2'])\n",
      "dict_keys(['x0', 'x2', 'z0', 'z2'])\n"
     ]
    }
   ],
   "source": [
    "transmon = Transmon(psi = [1, 0], C = C, Ij1 = Ij, Ij2 = 0, M = 0)\n",
    "circuit = Circuit([transmon, coupling, osc, drive_osc],  [[1], [0, 2], [1], [2]], dt = dt)\n",
    "nums = 2\n",
    "mi.set_nums(nums)\n",
    "mi.set_circuit(circuit)\n",
    "print(signal0.keys())\n",
    "print(signal1.keys())\n",
    "measure = mi.measure_everything(cov_signals = np.array([signal0, signal1]))"
   ]
  },
  {
   "cell_type": "code",
   "execution_count": 49,
   "metadata": {
    "ExecuteTime": {
     "end_time": "2019-12-12T16:38:29.775448Z",
     "start_time": "2019-12-12T16:38:29.770338Z"
    }
   },
   "outputs": [
    {
     "data": {
      "text/plain": [
       "dict_keys(['x0', 'x2', 'z0', 'z2', 'x0@sig0x0', 'x2@sig0x0', 'z0@sig0x0', 'z2@sig0x0', 'x0@sig0x2', 'x2@sig0x2', 'z0@sig0x2', 'z2@sig0x2', 'x0@sig0z0', 'x2@sig0z0', 'z0@sig0z0', 'z2@sig0z0', 'x0@sig0z2', 'x2@sig0z2', 'z0@sig0z2', 'z2@sig0z2', 'x0@sig1x0', 'x2@sig1x0', 'z0@sig1x0', 'z2@sig1x0', 'x0@sig1x2', 'x2@sig1x2', 'z0@sig1x2', 'z2@sig1x2', 'x0@sig1z0', 'x2@sig1z0', 'z0@sig1z0', 'z2@sig1z0', 'x0@sig1z2', 'x2@sig1z2', 'z0@sig1z2', 'z2@sig1z2'])"
      ]
     },
     "execution_count": 49,
     "metadata": {},
     "output_type": "execute_result"
    }
   ],
   "source": [
    "measure.keys()"
   ]
  },
  {
   "cell_type": "code",
   "execution_count": 53,
   "metadata": {
    "ExecuteTime": {
     "end_time": "2019-12-12T16:38:57.996121Z",
     "start_time": "2019-12-12T16:38:57.736242Z"
    }
   },
   "outputs": [
    {
     "data": {
      "image/png": "[encoded data removed]",
      "text/plain": [
       "<Figure size 1080x360 with 2 Axes>"
      ]
     },
     "metadata": {
      "needs_background": "light"
     },
     "output_type": "display_data"
    }
   ],
   "source": [
    "time = np.linspace(0, Time, Time // dt + 1)\n",
    "fig, (f1, f2) = plt.subplots(\n",
    "    nrows = 1, ncols = 2,\n",
    "    figsize=(15, 5)\n",
    ")\n",
    "f1.plot(time, np.abs(measure['z0'])/nums)\n",
    "f1.set_title(\"Time dependence of the enegry of the transmon <n>\")\n",
    "f1.set_xlabel('time, ns')\n",
    "f1.set_ylim(-0.1, 1.1)\n",
    "#f2.plot(time, np.abs(x2mean))\n",
    "f2.plot(time, np.abs(measure['z2'])/nums)\n",
    "f2.set_title(\"Time dependence of the enegry of the resonator <n>\")\n",
    "f2.set_xlabel('time, ns')\n",
    "plt.show()"
   ]
  },
  {
   "cell_type": "code",
   "execution_count": null,
   "metadata": {},
   "outputs": [],
   "source": []
  }
 ],
 "metadata": {
  "kernelspec": {
   "display_name": "Python 3",
   "language": "python",
   "name": "python3"
  },
  "language_info": {
   "codemirror_mode": {
    "name": "ipython",
    "version": 3
   },
   "file_extension": ".py",
   "mimetype": "text/x-python",
   "name": "python",
   "nbconvert_exporter": "python",
   "pygments_lexer": "ipython3",
   "version": "3.7.4"
  },
  "latex_envs": {
   "LaTeX_envs_menu_present": true,
   "autoclose": false,
   "autocomplete": true,
   "bibliofile": "biblio.bib",
   "cite_by": "apalike",
   "current_citInitial": 1,
   "eqLabelWithNumbers": true,
   "eqNumInitial": 1,
   "hotkeys": {
    "equation": "Ctrl-E",
    "itemize": "Ctrl-I"
   },
   "labels_anchors": false,
   "latex_user_defs": false,
   "report_style_numbering": false,
   "user_envs_cfg": false
  },
  "toc": {
   "base_numbering": 1,
   "nav_menu": {},
   "number_sections": true,
   "sideBar": true,
   "skip_h1_title": false,
   "title_cell": "Table of Contents",
   "title_sidebar": "Contents",
   "toc_cell": false,
   "toc_position": {
    "height": "641px",
    "left": "78px",
    "top": "225px",
    "width": "180px"
   },
   "toc_section_display": true,
   "toc_window_display": true
  }
 },
 "nbformat": 4,
 "nbformat_minor": 2
}
