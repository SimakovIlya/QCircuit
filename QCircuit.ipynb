{
 "cells": [
  {
   "cell_type": "code",
   "execution_count": 2,
   "metadata": {
    "ExecuteTime": {
     "end_time": "2019-12-03T21:31:18.536619Z",
     "start_time": "2019-12-03T21:31:17.491172Z"
    }
   },
   "outputs": [],
   "source": [
    "import matplotlib.pyplot as plt\n",
    "import numpy as np\n",
    "import random\n",
    "import copy\n",
    "from scipy.signal import fftconvolve\n",
    "import scipy\n",
    "from scipy.optimize import curve_fit\n",
    "from scipy.optimize import least_squares"
   ]
  },
  {
   "cell_type": "code",
   "execution_count": 2,
   "metadata": {
    "ExecuteTime": {
     "end_time": "2019-12-02T08:21:46.861802Z",
     "start_time": "2019-12-02T08:21:46.858736Z"
    }
   },
   "outputs": [],
   "source": [
    "hbar = 1.05 * 10**(-34)\n",
    "e = 1.6 * 10**(-19)\n",
    "Phi0 = np.pi * hbar / e"
   ]
  },
  {
   "cell_type": "markdown",
   "metadata": {},
   "source": [
    "# Objects"
   ]
  },
  {
   "cell_type": "markdown",
   "metadata": {},
   "source": [
    "## Transmon"
   ]
  },
  {
   "cell_type": "markdown",
   "metadata": {},
   "source": [
    "<img src=\"img/transmon.png\" align=\"right\" alt=\"Drawing\" style=\"width: 400px;\"/>\n",
    "\n",
    "$E_{j1} = \\cfrac{\\hbar I_{j1}}{2e}$\n",
    "\n",
    "$E_{j2} = \\cfrac{\\hbar I_{j2}}{2e}$ (если есть)\n",
    "\n",
    "$\\Phi_{ext} = MI$\n",
    "\n",
    "$E_j = \\sqrt{E_{j1}^2 + E_{j2}^2 + 2E_{j1}E_{j2}\\cos(2e \\Phi_{ext}/\\hbar)}$\n",
    "\n",
    "$E_c = \\cfrac{e^2}{2(C + C_r + C_l + C_u)} = \\cfrac{e^2}{2(C + C_{neighbours})}$\n",
    "\n",
    "$\\hbar \\omega = \\sqrt{(8 E_c E_j)}$\n",
    "\n",
    "$E_{n, n+1} = \\sqrt{(8 E_c E_j)} - E_c(n+1)$"
   ]
  },
  {
   "cell_type": "code",
   "execution_count": 3,
   "metadata": {
    "ExecuteTime": {
     "end_time": "2019-12-02T08:21:46.872380Z",
     "start_time": "2019-12-02T08:21:46.863908Z"
    }
   },
   "outputs": [],
   "source": [
    "class Transmon:\n",
    "# properties\n",
    "    # n - number of levels\n",
    "    # psi - wave function\n",
    "    # C capacity\n",
    "    # Ej\n",
    "    # Ec\n",
    "    # w - array of freq 0-1, 1-2 ...\n",
    "    # psi - wave function (defaulf [1, 0 , 0 ...])\n",
    "    # gamma\n",
    "    # Cnb\n",
    "    # M\n",
    "    # I\n",
    "    # Ej1, Ej2\n",
    "    \n",
    "    def __init__(self, psi, C, Ij1, Ij2 = 0, M = 0, I = 0, Cnb = [0], gamma = 0):\n",
    "        \n",
    "        # number of levels\n",
    "        self.n = len(psi)\n",
    "        \n",
    "        #C, Ij1, Ij2, M, I, Cnb, Ej, Ec, w, Ej1, Ej2\n",
    "        self.C = C\n",
    "        self.Ij1 = Ij1\n",
    "        self.Ij2 = Ij2\n",
    "        self.M = M\n",
    "        self.I = I\n",
    "        self.Cnb = Cnb\n",
    "        self.gamma = gamma\n",
    "        \n",
    "        Ej1 = hbar * Ij1 / (2 * e)\n",
    "        Ej2 = hbar * Ij2 / (2 * e)\n",
    "        self.Ej1, self.Ej2 = Ej1, Ej2\n",
    "        Phiext = I * M\n",
    "        self.Ej = np.sqrt(Ej1**2 + Ej2**2 + 2 * Ej1 * Ej2 * np.cos(2 * e / hbar * Phiext))\n",
    "        self.Ec = e**2 / 2 / (C + np.sum(Cnb))\n",
    "        self.w = np.zeros(self.n - 1)\n",
    "        for i in range(1, self.n):\n",
    "            self.w[i-1] = np.sqrt(8 * self.Ec * self.Ej) / hbar - self.Ec * i / hbar\n",
    "            self.w[i-1] *= 10**(-9)\n",
    "\n",
    "        \n",
    "        #wave fucntion\n",
    "        self.psi = np.array(psi, dtype = complex)\n",
    "        if self.psi.size != self.n:\n",
    "            print('error, wrong size of transmon.psi')\n",
    "        self.psi = self.psi / np.linalg.norm(self.psi)\n",
    "        self.psi.shape = (self.n, 1)"
   ]
  },
  {
   "cell_type": "markdown",
   "metadata": {},
   "source": [
    "## Ocsillator"
   ]
  },
  {
   "cell_type": "markdown",
   "metadata": {},
   "source": [
    "$\\hbar \\omega = \\cfrac{\\hbar}{\\sqrt{L (C + C_{nb})}}$\n",
    "\n",
    "$E_{n-1, n} = \\hbar \\omega$"
   ]
  },
  {
   "cell_type": "code",
   "execution_count": 4,
   "metadata": {
    "ExecuteTime": {
     "end_time": "2019-12-02T08:21:47.336302Z",
     "start_time": "2019-12-02T08:21:47.329172Z"
    }
   },
   "outputs": [],
   "source": [
    "class Oscillator:\n",
    "# properties\n",
    "    # n - number of levels\n",
    "    # C - capacity\n",
    "    # psi - wave function\n",
    "    # w - array of freq 0-1, 1-2 ...\n",
    "    # psi - wave function (defaulf [1, 0 , 0 ...])\n",
    "    # gamma\n",
    "    \n",
    "    def __init__(self, psi, C, L, Cnb = [0], gamma = 0, noise = 1):\n",
    "        \n",
    "        # number of levels\n",
    "        self.n = len(psi)\n",
    "        \n",
    "        #gamma, noise, L, С, w\n",
    "        self.gamma = gamma\n",
    "        self.noise = noise\n",
    "        self.L = L\n",
    "        self.C = C\n",
    "        self.w = np.array([1/np.sqrt(L * (C + np.sum(Cnb)))] * (self.n - 1)) * 10**(-9)\n",
    "        \n",
    "        #wave fucntion\n",
    "        self.psi = np.array(psi, dtype = complex)\n",
    "        if self.psi.size != self.n:\n",
    "            print('error, wrong size of oscillator.psi')\n",
    "        self.psi = self.psi / np.linalg.norm(self.psi)\n",
    "        self.psi.shape = (self.n, 1)"
   ]
  },
  {
   "cell_type": "markdown",
   "metadata": {},
   "source": [
    "## Coupling\n",
    "\n",
    "$G = \\cfrac{C \\sqrt{\\omega_1\\omega_2}}{2\\sqrt{(C+C_1)(C+C_2)}}$"
   ]
  },
  {
   "cell_type": "code",
   "execution_count": 5,
   "metadata": {
    "ExecuteTime": {
     "end_time": "2019-12-02T08:21:48.026596Z",
     "start_time": "2019-12-02T08:21:48.022567Z"
    }
   },
   "outputs": [],
   "source": [
    "class Coupling():\n",
    "    \n",
    "    def __init__(self, C):\n",
    "        self.C = C\n",
    "        self.G = C / 2"
   ]
  },
  {
   "cell_type": "markdown",
   "metadata": {},
   "source": [
    "## InSignal\n",
    "\n",
    "накачка вида $\\Omega(t) (a^\\dagger + a)$\n",
    "\n",
    "!!! не тот dc ток, который меняет частоту трансмона"
   ]
  },
  {
   "cell_type": "code",
   "execution_count": 6,
   "metadata": {
    "ExecuteTime": {
     "end_time": "2019-12-02T08:21:48.428947Z",
     "start_time": "2019-12-02T08:21:48.424318Z"
    }
   },
   "outputs": [],
   "source": [
    "class InSignal():\n",
    "\n",
    "# drive\n",
    "# cur\n",
    "# change_freq 0 если обычная накачка, 1 если меняем частоту кубита\n",
    "    \n",
    "    def __init__(self, drive = np.array([]), change_freq = 0):\n",
    "        self.drive = drive\n",
    "        self.cur = 0\n",
    "        self.change_freq = change_freq"
   ]
  },
  {
   "cell_type": "markdown",
   "metadata": {},
   "source": [
    "## Filters"
   ]
  },
  {
   "cell_type": "markdown",
   "metadata": {},
   "source": [
    "### Cheby1"
   ]
  },
  {
   "cell_type": "code",
   "execution_count": 7,
   "metadata": {
    "ExecuteTime": {
     "end_time": "2019-12-02T08:21:48.990562Z",
     "start_time": "2019-12-02T08:21:48.983301Z"
    }
   },
   "outputs": [],
   "source": [
    "# по массиву частот и параметров возвращает фильрующий массив\n",
    "def Cheby1Filter(freq, n, rs, cutoff_freq):\n",
    "    # частоты, порядок фильтра, minimum attenuation in -dB, cutoff frequency\n",
    "    eps = np.sqrt(10**(0.1*rs) - 1) #расчитываем eps из minimum attenuation in -dB\n",
    "    c = np.append(np.zeros(n), eps)\n",
    "    freq = np.asarray(freq, dtype = complex)\n",
    "    cheby2_filter = 1/np.sqrt(1 + (np.polynomial.chebyshev.chebval(freq/cutoff_freq, c)**2))\n",
    "    return(cheby2_filter)\n",
    "\n",
    "#обрабатывает сигнал через cheby1\n",
    "def SignalProcessingWithCheby1(signal, time, n = 2, rs = 0.3, cutoff_freq = 2*np.pi):\n",
    "    fsignal = np.fft.rfft(np.real(signal)) # F[signal]\n",
    "    freq = np.fft.rfftfreq(time.size, time[1] - time[0]) # преход в частотную область\n",
    "    fsignal_processed = fsignal * Cheby1Filter(freq, n, rs, cutoff_freq)\n",
    "    signal_processed = np.fft.irfft(fsignal_processed)\n",
    "    return(signal_processed)\n",
    "\n",
    "#пока не работает\n",
    "def SignalProcessingWithCheby1_withoutFsignal(signal, time, n = 2, rs = 0.3, cutoff_freq = 2*np.pi):\n",
    "    freq = np.fft.rfftfreq(time.size, time[1] - time[0]) # преход в частотную область\n",
    "    fcheby1 = np.fft.irfft(Cheby1Filter(freq, n, rs, cutoff_freq))\n",
    "    signal_processed = fftconvolve(signal, fcheby1, 'same')\n",
    "    return(signal_processed)"
   ]
  },
  {
   "cell_type": "markdown",
   "metadata": {},
   "source": [
    "### Cheby2"
   ]
  },
  {
   "cell_type": "code",
   "execution_count": 8,
   "metadata": {
    "ExecuteTime": {
     "end_time": "2019-12-02T08:21:49.312529Z",
     "start_time": "2019-12-02T08:21:49.307054Z"
    }
   },
   "outputs": [],
   "source": [
    "def Cheby2Filter(freq, n, rs, cutoff_freq):\n",
    "    # частоты, порядок фильтра, minimum attenuation in -dB, cutoff frequency\n",
    "    eps = 1/np.sqrt(10**(0.1*rs) - 1) #расчитываем eps из minimum attenuation in -dB\n",
    "    c = np.append(np.zeros(n), eps)\n",
    "    freq = np.asarray(freq, dtype = complex)\n",
    "    cheby2_filter = 1/np.sqrt(1 + 1/(np.polynomial.chebyshev.chebval(freq**(-1)*cutoff_freq, c)**2))\n",
    "    return(cheby2_filter)\n",
    "\n",
    "\n",
    "def SignalProcessingWithCheby2(signal, time, n = 4, rs = 30, cutoff_freq = 2*np.pi):\n",
    "    fsignal = np.fft.rfft(np.real(signal)) # F[signal]\n",
    "    freq = np.fft.rfftfreq(time.size, time[1] - time[0]) # преход в частотную область\n",
    "    fsignal_processed = fsignal * Cheby2Filter(freq, n, rs, cutoff_freq)\n",
    "    signal_processed = np.fft.irfft(fsignal_processed)\n",
    "    return(signal_processed)"
   ]
  },
  {
   "cell_type": "markdown",
   "metadata": {},
   "source": [
    "## Circuit"
   ]
  },
  {
   "cell_type": "code",
   "execution_count": 1,
   "metadata": {
    "ExecuteTime": {
     "end_time": "2019-12-04T09:45:19.338955Z",
     "start_time": "2019-12-04T09:45:19.321532Z"
    }
   },
   "outputs": [],
   "source": [
    "# Для записи цепей. Цепь записывается через массив элементов цепи (вершины) и список ребер.\n",
    "class Circuit():\n",
    "    \n",
    "# dt\n",
    "# elements\n",
    "# adjlist\n",
    "# psi\n",
    "# psiwrite\n",
    "# a \n",
    "# ad\n",
    "# H\n",
    "# Hwrite\n",
    "# HwriteRWB\n",
    "    \n",
    "    def __init__(self, elements, adjlist, dt):\n",
    "        self.dt = dt\n",
    "        self.elements = np.asarray(elements)\n",
    "        self.adjlist = np.asarray(adjlist)\n",
    "        self.psi, self.psiwrite = CreatePsi(self)\n",
    "        \n",
    "        # находим константы связи G\n",
    "        for i in range(0, self.elements.size):\n",
    "            if self.elements[i].__class__.__name__ == 'Coupling':\n",
    "                self.elements[i].G = self.elements[i].C / 2\n",
    "                tmp = self.adjlist[i][0]\n",
    "                self.elements[i].G *= np.sqrt(self.elements[tmp].w[0]/(self.elements[i].C + self.elements[tmp].C))\n",
    "                tmp = self.adjlist[i][1]\n",
    "                self.elements[i].G *= np.sqrt(self.elements[tmp].w[0]/(self.elements[i].C + self.elements[tmp].C))\n",
    "                \n",
    "            if self.elements[i].__class__.__name__ == 'Transmon': #перерасчет частоты трансмона из-за сосдених емкостей\n",
    "                Cnb = [0]\n",
    "                for el in adjlist[i]:\n",
    "                    if self.elements[el].__class__.__name__ == 'Coupling':\n",
    "                        Cnb = np.append(Cnb, self.elements[el].C)\n",
    "                self.elements[i] = Transmon(psi = self.elements[i].psi,\\\n",
    "                                            C = self.elements[i].C,\\\n",
    "                                            Ij1 = self.elements[i].Ij1,\n",
    "                                            Ij2 = self.elements[i].Ij2,\\\n",
    "                                            M = self.elements[i].M,\\\n",
    "                                            I = self.elements[i].I,\\\n",
    "                                            Cnb = Cnb,\\\n",
    "                                            gamma = self.elements[i].gamma)\n",
    "                \n",
    "            if self.elements[i].__class__.__name__ == 'Oscillator': #перерасчет частоты резонатора из-за сосдених емкостей\n",
    "                Cnb = [0]\n",
    "                for el in adjlist[i]:\n",
    "                    if self.elements[el].__class__.__name__ == 'Coupling':\n",
    "                        Cnb = np.append(Cnb, self.elements[el].C)\n",
    "                self.elements[i] = Oscillator(psi = self.elements[i].psi,\\\n",
    "                                              C = self.elements[i].C,\\\n",
    "                                              L = self.elements[i].L,\\\n",
    "                                              Cnb = Cnb,\\\n",
    "                                              gamma = self.elements[i].gamma,\\\n",
    "                                              noise = self.elements[i].noise)\n",
    "\n",
    "\n",
    "        self.a, self.ad = CreateAAd(self)\n",
    "        self.H = CreateHamiltonian(self)\n",
    "        self.Hwrite, self.HwriteRWB = CreateHamiltonianWrite(self)\n",
    "        self.rwb, self.rwbd = CreateRWB(self)\n",
    "        \n",
    "    def display_info(self):\n",
    "        print(self.Hwrite)\n",
    "        print(self.HwriteRWB)\n",
    "        \n",
    "    def upd_insignal(self, element_cur, drive): #индекс InSignal в circuit и массив сигналов\n",
    "        #time = np.arange(0, drive.size) * self.dt\n",
    "        #drive = SignalProcessingWithCheby1(drive, time, n = 2, rs = 0.3, cutoff_freq = 2*np.pi)\n",
    "        if self.elements[element_cur].__class__.__name__ != 'InSignal':\n",
    "            print('error, singnal is given not to InSignal vertice but to vertice ' + str(element_cur) + ' '\\\n",
    "                  +  self.elements[element_cur].__class__.__name__)\n",
    "        else:\n",
    "            self.elements[element_cur].drive = np.asarray(drive)\n",
    "            self.elements[element_cur].cur = 0\n",
    "            \n",
    "    def gen_sin_sig(self, element_cur, t_long, ampl):\n",
    "        #circuit, element_cur - current of the resonator in circuit\n",
    "        #t_long - long of the impulse (dt is known form circuit.dt)\n",
    "        #ampl - amplitude of oscillations\n",
    "        if self.elements[element_cur].__class__.__name__ != 'InSignal':\n",
    "            print(\"Try to applay dispersive_readout not to the InSignal\")\n",
    "            print(self.elements[element_cur].__class__.__name__)\n",
    "        else:\n",
    "            time = np.arange(0, t_long, self.dt)\n",
    "            drive = ampl * np.sin(self.elements[self.adjlist[element_cur][0]].w[0] * time)\n",
    "            self.upd_insignal(element_cur, drive)\n",
    "            return(drive.size)"
   ]
  },
  {
   "cell_type": "markdown",
   "metadata": {},
   "source": [
    "# Operators (fuctions)"
   ]
  },
  {
   "cell_type": "markdown",
   "metadata": {},
   "source": [
    "## CreatePsi"
   ]
  },
  {
   "cell_type": "code",
   "execution_count": 10,
   "metadata": {
    "ExecuteTime": {
     "end_time": "2019-12-02T08:21:50.164664Z",
     "start_time": "2019-12-02T08:21:50.158593Z"
    }
   },
   "outputs": [],
   "source": [
    "# волновая функиция по circuit \n",
    "def CreatePsi(circuit):\n",
    "    psi = np.array([], dtype = complex)\n",
    "    psiwrite = chr(936) + ' = '\n",
    "    for i in range(0, circuit.elements.size):\n",
    "        if 'psi' in circuit.elements[i].__dict__:\n",
    "            if psi.size == 0:\n",
    "                psi = circuit.elements[i].__dict__.get('psi')\n",
    "                psiwrite = psiwrite + chr(936) + str(i)\n",
    "            else:\n",
    "                psi = np.kron(psi, circuit.elements[i].__dict__.get('psi'))\n",
    "                psiwrite = psiwrite + chr(8855) + chr(936) + str(i)\n",
    "    return(psi, psiwrite)"
   ]
  },
  {
   "cell_type": "markdown",
   "metadata": {},
   "source": [
    "## CreateAAd"
   ]
  },
  {
   "cell_type": "code",
   "execution_count": 11,
   "metadata": {
    "ExecuteTime": {
     "end_time": "2019-12-02T08:21:50.547087Z",
     "start_time": "2019-12-02T08:21:50.535354Z"
    }
   },
   "outputs": [],
   "source": [
    "# операторы рождения и уничтожения по circuit\n",
    "# RWB = 0. - не учитывается RWB\n",
    "# RWB = 1. - учитывается (1 число шагов по времени)\n",
    "def CreateAAd(circuit):\n",
    "    n = circuit.psi.size\n",
    "    a = np.stack([np.identity(n, dtype = complex)] * circuit.elements.size)\n",
    "    ad = np.stack([np.identity(n, dtype = complex)] * circuit.elements.size)\n",
    "    cnt = 1\n",
    "    for i in range(0, circuit.elements.size):\n",
    "        if 'psi' in circuit.elements[i].__dict__: \n",
    "            if cnt == 1:\n",
    "                tmpa = np.sqrt(np.diag(np.arange(1, circuit.elements[i].n, dtype = complex), k = 1))\n",
    "                tmpad = tmpa.transpose()\n",
    "            else:\n",
    "                tmpa = np.sqrt(np.diag(np.arange(1, circuit.elements[i].n, dtype = complex), k = 1))\n",
    "                tmpad = tmpa.transpose()\n",
    "                tmpa = np.kron(np.identity(cnt), tmpa)\n",
    "                tmpad = np.kron(np.identity(cnt), tmpad)\n",
    "            cnt *=  circuit.elements[i].n\n",
    "            if cnt < circuit.psi.size:\n",
    "                tmpa = np.kron(tmpa, np.identity(circuit.psi.size // cnt))\n",
    "                tmpad = np.kron(tmpad, np.identity(circuit.psi.size // cnt))\n",
    "            a[i] = tmpa\n",
    "            ad[i] = tmpad\n",
    "    return(a, ad)"
   ]
  },
  {
   "cell_type": "code",
   "execution_count": 12,
   "metadata": {
    "ExecuteTime": {
     "end_time": "2019-12-02T08:21:50.722078Z",
     "start_time": "2019-12-02T08:21:50.712845Z"
    }
   },
   "outputs": [],
   "source": [
    "def CreateRWB(circuit):\n",
    "    n = circuit.psi.size\n",
    "    rwb = np.stack([np.identity(n, dtype = complex)] * circuit.elements.size)\n",
    "    rwbd = np.stack([np.identity(n, dtype = complex)] * circuit.elements.size)\n",
    "    cnt = 1\n",
    "    for i in range(0, circuit.elements.size):\n",
    "        if 'psi' in circuit.elements[i].__dict__: \n",
    "            if cnt == 1:\n",
    "                tmpa = np.diag(np.append(np.zeros(1), np.exp(- 1j * circuit.elements[i].w * circuit.dt)))\n",
    "                tmpad = np.diag(np.append(np.exp(1j * circuit.elements[i].w * circuit.dt), np.zeros(1)))\n",
    "            else:\n",
    "                tmpa = np.diag(np.append(np.zeros(1), np.exp(- 1j * circuit.elements[i].w * circuit.dt)))\n",
    "                tmpad = np.diag(np.append(np.exp(1j * circuit.elements[i].w * circuit.dt), np.zeros(1)))\n",
    "                tmpa = np.kron(np.identity(cnt), tmpa)\n",
    "                tmpad = np.kron(np.identity(cnt), tmpad)\n",
    "            cnt *=  circuit.elements[i].n\n",
    "            if cnt < circuit.psi.size:\n",
    "                tmpa = np.kron(tmpa, np.identity(circuit.psi.size // cnt))\n",
    "                tmpad = np.kron(tmpad, np.identity(circuit.psi.size // cnt))\n",
    "            rwb[i] = tmpa\n",
    "            rwbd[i] = tmpad\n",
    "    return(rwb, rwbd)"
   ]
  },
  {
   "cell_type": "markdown",
   "metadata": {},
   "source": [
    "## CreateHamiltonian"
   ]
  },
  {
   "cell_type": "code",
   "execution_count": 13,
   "metadata": {
    "ExecuteTime": {
     "end_time": "2019-12-02T08:21:51.124214Z",
     "start_time": "2019-12-02T08:21:51.110871Z"
    }
   },
   "outputs": [],
   "source": [
    "# по circuit выводит гамильтониан системы\n",
    "def CreateHamiltonian(circuit):\n",
    "    H = np.zeros((circuit.psi.size, circuit.psi.size), dtype = complex)\n",
    "    for i in range(0, circuit.elements.size):\n",
    "        # член взаимодействия\n",
    "        if circuit.elements[i].__class__.__name__ == 'Coupling':\n",
    "            tmp = circuit.adjlist[i][0]\n",
    "            tmpH1 = circuit.ad[tmp] + circuit.a[tmp]\n",
    "            tmp = circuit.adjlist[i][1]\n",
    "            tmpH2 = circuit.ad[tmp] + circuit.a[tmp]\n",
    "            H = H + circuit.elements[i].G * np.dot(tmpH1, tmpH2)\n",
    "        \n",
    "        # член затухания\n",
    "        if circuit.elements[i].__class__.__name__ == 'Transmon' or\\\n",
    "           circuit.elements[i].__class__.__name__ == 'Oscillator':\n",
    "            H = H - 1j * circuit.elements[i].gamma * np.dot(circuit.ad[i], circuit.a[i]) / 2.\n",
    "        \n",
    "        # шум\n",
    "        if circuit.elements[i].__class__.__name__ == 'Oscillator':\n",
    "            #  просто проверка на всякий случай\n",
    "            if circuit.elements[i].gamma * circuit.elements[i].noise != 0:\n",
    "                x = np.dot(np.conj(circuit.psi.transpose()), np.dot((circuit.ad[i] + circuit.a[i]), circuit.psi))\n",
    "                J = (np.real(x)/2* np.sqrt(circuit.elements[i].gamma) + random.gauss(0, 1)/np.sqrt(circuit.dt))\n",
    "                H = H + 1j * np.sqrt(circuit.elements[i].gamma) * J * circuit.a[i]\n",
    "                \n",
    "        # накачка\n",
    "        if circuit.elements[i].__class__.__name__ == 'InSignal':\n",
    "            if circuit.elements[i].cur < circuit.elements[i].drive.size:\n",
    "                tmp = circuit.adjlist[i][0]\n",
    "                if circuit.elements[i].change_freq == 0: #добавляем накачку\n",
    "                    H = H - circuit.elements[i].drive[circuit.elements[i].cur] * (circuit.a[tmp] + circuit.ad[tmp])\n",
    "                elif circuit.elements[i].change_freq == 1: #меняем частоту кубита\n",
    "                    if circuit.elements[tmp].__class__.__name__ == 'Transmon':\n",
    "                        circuit.elements[tmp] = Transmon(psi = circuit.elements[tmp].psi,\\\n",
    "                                                         C = circuit.elements[tmp].C,\\\n",
    "                                                         Ij1 = circuit.elements[tmp].Ij1,\n",
    "                                                         Ij2 = circuit.elements[tmp].Ij2,\\\n",
    "                                                         M = circuit.elements[tmp].M,\\\n",
    "                                                         I = circuit.elements[i].drive[circuit.elements[i].cur],\\\n",
    "                                                         Cnb = circuit.elements[tmp].Cnb,\\\n",
    "                                                         gamma = circuit.elements[tmp].gamma)\n",
    "                        circuit.rwb, circuit.rwbd = CreateRWB(circuit)\n",
    "                    else:\n",
    "                        print('You are changing frequency of the wrong element (' \\\n",
    "                              + circuit.elements[i].__class__.__name__ +')')\n",
    "                circuit.elements[i].cur += 1\n",
    "                    \n",
    "    return (H)"
   ]
  },
  {
   "cell_type": "code",
   "execution_count": 14,
   "metadata": {
    "ExecuteTime": {
     "end_time": "2019-12-02T08:21:51.387989Z",
     "start_time": "2019-12-02T08:21:51.381111Z"
    }
   },
   "outputs": [],
   "source": [
    "def CreateHamiltonianWrite(circuit):\n",
    "    Hwrite = 'H = '\n",
    "    HwriteRWB = 'H_RWB = '\n",
    "    for i in range(0, circuit.elements.size):\n",
    "        if circuit.elements[i].__class__.__name__ == 'Transmon' or\\\n",
    "           circuit.elements[i].__class__.__name__ == 'Oscillator':\n",
    "            Hwrite = Hwrite + ' + \\u0127\\u03C9_' + str(i) + 'a' + chr(8314) + '_' + str(i) + 'a_' + str(i)\n",
    "        if circuit.elements[i].__class__.__name__ == 'Coupling':\n",
    "            Hwrite = Hwrite + ' + \\u0127g_' + str(i)\n",
    "            HwriteRWB = HwriteRWB + ' + \\u0127g_' + str(i)\n",
    "            tmp = circuit.adjlist[i][0]\n",
    "            Hwrite = Hwrite + '(' + 'a' + chr(8314) + '_' + str(tmp) + ' + a_' + str(tmp) + ')'\n",
    "            HwriteRWB = HwriteRWB + '(' + 'a' + chr(8314) + '_' + str(tmp) + ' + a_' + str(tmp) + ')'\n",
    "            tmp = circuit.adjlist[i][1]\n",
    "            Hwrite = Hwrite + '(' + 'a' + chr(8314) + '_' + str(tmp) + ' + a_' + str(tmp) + ')'\n",
    "            HwriteRWB = HwriteRWB + '(' + 'a' + chr(8314) + '_' + str(tmp) + ' + a_' + str(tmp) + ')'\n",
    "    return (Hwrite, HwriteRWB)"
   ]
  },
  {
   "cell_type": "markdown",
   "metadata": {},
   "source": [
    "## RK4"
   ]
  },
  {
   "cell_type": "code",
   "execution_count": 15,
   "metadata": {
    "ExecuteTime": {
     "end_time": "2019-12-02T08:21:51.893373Z",
     "start_time": "2019-12-02T08:21:51.883202Z"
    }
   },
   "outputs": [],
   "source": [
    "# evolution for RK4\n",
    "def FuncEvolution(psi, circuit):\n",
    "    dpsi = - 1j * np.dot(circuit.H, psi)\n",
    "    return(dpsi)\n",
    "\n",
    "def RK4(circuit):\n",
    "    k1 = FuncEvolution(circuit.psi, circuit)\n",
    "    k2 = FuncEvolution(circuit.psi + circuit.dt/2 * k1, circuit)\n",
    "    k3 = FuncEvolution(circuit.psi + circuit.dt/2 * k2, circuit)\n",
    "    k4 = FuncEvolution(circuit.psi + circuit.dt * k3, circuit)\n",
    "    circuit.psi = (circuit.psi + circuit.dt/6 * (k1 + 2*k2 + 2*k3 + k4))\n",
    "    circuit.psi = circuit.psi / np.linalg.norm(circuit.psi)\n",
    "    \n",
    "    #recount annihilation and creation operatored due to RWB\n",
    "    #circuit.a, circuit.ad = CreateAAd(circuit, RWB_time)\n",
    "    for i in range(0, circuit.elements.size):\n",
    "        if 'psi' in circuit.elements[i].__dict__: \n",
    "            circuit.a[i] = np.dot(circuit.a[i], circuit.rwb[i])\n",
    "            circuit.ad[i] = np.dot(circuit.ad[i], circuit.rwbd[i])\n",
    "    \n",
    "    \n",
    "    #recount Hamiltonian\n",
    "    circuit.H = CreateHamiltonian(circuit)\n",
    "            \n",
    "    return(circuit)"
   ]
  },
  {
   "cell_type": "markdown",
   "metadata": {},
   "source": [
    "## Find_freq"
   ]
  },
  {
   "cell_type": "code",
   "execution_count": 16,
   "metadata": {
    "ExecuteTime": {
     "end_time": "2019-12-02T08:21:52.533017Z",
     "start_time": "2019-12-02T08:21:52.528733Z"
    }
   },
   "outputs": [],
   "source": [
    "# по сигналу находит его частоту\n",
    "def Find_freq(x, dt, plot = False):\n",
    "    fx = np.fft.rfft(np.real(x)) # F[signal]\n",
    "    freq = np.fft.rfftfreq(x.size, dt) # преход в частотную область\n",
    "    if plot:\n",
    "        plt.plot(freq, np.abs(fx))\n",
    "        plt.show()\n",
    "    return(freq[np.argmax(np.abs(fx))])"
   ]
  },
  {
   "cell_type": "markdown",
   "metadata": {},
   "source": [
    "## func_for_disp_readout"
   ]
  },
  {
   "cell_type": "code",
   "execution_count": 17,
   "metadata": {
    "ExecuteTime": {
     "end_time": "2019-12-02T08:21:54.083256Z",
     "start_time": "2019-12-02T08:21:54.076888Z"
    }
   },
   "outputs": [],
   "source": [
    "def func_for_disp_readout(t, gamma, a, phi, f):\n",
    "    return(a * np.sin(2*np.pi*f*t + phi) * np.exp(- gamma * t))"
   ]
  },
  {
   "cell_type": "markdown",
   "metadata": {},
   "source": [
    "# Testing elements"
   ]
  },
  {
   "cell_type": "markdown",
   "metadata": {},
   "source": [
    "## transmon"
   ]
  },
  {
   "cell_type": "code",
   "execution_count": 30,
   "metadata": {
    "ExecuteTime": {
     "end_time": "2019-11-18T13:19:25.443319Z",
     "start_time": "2019-11-18T13:19:25.434553Z"
    }
   },
   "outputs": [
    {
     "name": "stdout",
     "output_type": "stream",
     "text": [
      "[6.55334456 6.16530965] GHz\n",
      "40.00000000000001\n",
      "[[0.70710678+0.j]\n",
      " [0.70710678+0.j]\n",
      " [0.        +0.j]]\n"
     ]
    }
   ],
   "source": [
    "#проверка работы Transmon\n",
    "C = 5*10**(-14)\n",
    "Ij = 40*e**3/hbar/C\n",
    "M = 2 * 10**(-8)\n",
    "I = 1.72 * 10**(-8)\n",
    "\n",
    "transmon = Transmon(psi = [1, 1, 0], C = C, Ij1 = Ij / 2, Ij2 = Ij / 2, M = M, I = 0)\n",
    "print(transmon.w/2/np.pi, 'GHz')\n",
    "print(transmon.Ej/transmon.Ec)\n",
    "print(transmon.psi)"
   ]
  },
  {
   "cell_type": "markdown",
   "metadata": {},
   "source": [
    "## oscillator"
   ]
  },
  {
   "cell_type": "code",
   "execution_count": 15,
   "metadata": {
    "ExecuteTime": {
     "end_time": "2019-11-18T12:49:57.124721Z",
     "start_time": "2019-11-18T12:49:57.121095Z"
    }
   },
   "outputs": [
    {
     "name": "stdout",
     "output_type": "stream",
     "text": [
      "[5.03292121 5.03292121] GHz\n",
      "[[1.+0.j]\n",
      " [0.+0.j]\n",
      " [0.+0.j]]\n"
     ]
    }
   ],
   "source": [
    "L = 2 * 10**(-8)\n",
    "osc = Oscillator(psi = [1, 0, 0], L = L, C = C)\n",
    "print(osc.w / 2 / np.pi, 'GHz')\n",
    "print(osc.psi)"
   ]
  },
  {
   "cell_type": "markdown",
   "metadata": {},
   "source": [
    "## coupling"
   ]
  },
  {
   "cell_type": "code",
   "execution_count": 16,
   "metadata": {
    "ExecuteTime": {
     "end_time": "2019-11-18T12:49:57.128438Z",
     "start_time": "2019-11-18T12:49:57.126242Z"
    }
   },
   "outputs": [],
   "source": [
    "coupling = Coupling(C/10)"
   ]
  },
  {
   "cell_type": "markdown",
   "metadata": {},
   "source": [
    "## circuit"
   ]
  },
  {
   "cell_type": "code",
   "execution_count": 17,
   "metadata": {
    "ExecuteTime": {
     "end_time": "2019-11-18T12:49:57.142234Z",
     "start_time": "2019-11-18T12:49:57.129728Z"
    }
   },
   "outputs": [
    {
     "name": "stdout",
     "output_type": "stream",
     "text": [
      "Ψ = Ψ1⊗Ψ3\n",
      "[[0.70710678+0.j]\n",
      " [0.        +0.j]\n",
      " [0.        +0.j]\n",
      " [0.70710678+0.j]\n",
      " [0.        +0.j]\n",
      " [0.        +0.j]\n",
      " [0.        +0.j]\n",
      " [0.        +0.j]\n",
      " [0.        +0.j]]\n",
      "H =  + ħω_1a⁺_1a_1 + ħg_2(a⁺_1 + a_1)(a⁺_3 + a_3) + ħω_3a⁺_3a_3\n",
      "H_RWB =  + ħg_2(a⁺_1 + a_1)(a⁺_3 + a_3)\n",
      "0.014286160145856078\n"
     ]
    }
   ],
   "source": [
    "transmon = Transmon(psi = [1, 1, 0], C = C, Ij1 = Ij, Ij2 = 0)\n",
    "coupling = Coupling(C /100/2)\n",
    "osc = Oscillator(psi = [1, 0, 0], L = L, C = C)\n",
    "drive_osc = InSignal()\n",
    "dt = 0.01\n",
    "\n",
    "\n",
    "#circuit = Circuit([transmon, coupling, osc],  [[1], [0, 2], [1]], dt = dt)\n",
    "circuit = Circuit([drive_osc, transmon, coupling, osc],  [[3], [2], [1, 3], [2]], dt = dt)\n",
    "print(circuit.psiwrite)\n",
    "print(circuit.psi)\n",
    "print(circuit.Hwrite)\n",
    "print(circuit.HwriteRWB)\n",
    "print(circuit.elements[2].G/ 2/np.pi)"
   ]
  },
  {
   "cell_type": "markdown",
   "metadata": {},
   "source": [
    "## cheby1"
   ]
  },
  {
   "cell_type": "code",
   "execution_count": 12,
   "metadata": {
    "ExecuteTime": {
     "end_time": "2019-11-25T10:25:37.160967Z",
     "start_time": "2019-11-25T10:25:36.591929Z"
    }
   },
   "outputs": [
    {
     "data": {
      "image/png": "[encoded data removed]",
      "text/plain": [
       "<Figure size 432x288 with 1 Axes>"
      ]
     },
     "metadata": {
      "needs_background": "light"
     },
     "output_type": "display_data"
    },
    {
     "data": {
      "image/png": "[encoded data removed]",
      "text/plain": [
       "<Figure size 432x288 with 1 Axes>"
      ]
     },
     "metadata": {
      "needs_background": "light"
     },
     "output_type": "display_data"
    },
    {
     "data": {
      "image/png": "[encoded data removed]",
      "text/plain": [
       "<Figure size 432x288 with 1 Axes>"
      ]
     },
     "metadata": {
      "needs_background": "light"
     },
     "output_type": "display_data"
    }
   ],
   "source": [
    "def test_filter_cheby1():\n",
    "    time = np.arange(0, 100, 0.01)\n",
    "    signal = np.sin(2 * np.pi * 0.5 * time) + np.sin(2 * np.pi * 0.1 * time)\n",
    "\n",
    "    plt.plot(time, signal)\n",
    "    plt.show()\n",
    "\n",
    "    plt.plot(time, SignalProcessingWithCheby1(signal, time))\n",
    "    #plt.plot(time, SignalProcessingWithCheby1_withoutFsignal(signal, time))\n",
    "\n",
    "    plt.show()\n",
    "\n",
    "    freq = np.fft.rfftfreq(time.size, time[1] - time[0])\n",
    "    arr = Cheby1Filter(freq, n = 2, rs = 0.3, cutoff_freq = 1)\n",
    "\n",
    "    plt.semilogx(freq, 20 * np.log10(abs(arr)))\n",
    "    #plt.plot(freq, 20 * np.log10(abs(arr)))\n",
    "    plt.title('Chebyshev Type I frequency response (rs=0.3)')\n",
    "    plt.xlabel('$\\omega / \\omega_0$, $\\omega_0 = 1$ GHz')\n",
    "    plt.ylabel('Amplitude [dB]')\n",
    "    plt.margins(0, 0.1)\n",
    "    plt.grid(which='both', axis='both')\n",
    "    plt.axvline(1, color='green') # cutoff frequency\n",
    "    #plt.axhline(-0.3, color='green') # rs\n",
    "    plt.show()"
   ]
  },
  {
   "cell_type": "markdown",
   "metadata": {},
   "source": [
    "# InitializeCircuit"
   ]
  },
  {
   "cell_type": "code",
   "execution_count": 15,
   "metadata": {
    "ExecuteTime": {
     "end_time": "2019-11-26T17:13:50.998164Z",
     "start_time": "2019-11-26T17:13:50.989528Z"
    }
   },
   "outputs": [],
   "source": [
    "def InitializeCircuit(dt):\n",
    "        \n",
    "    C = 5*10**(-14)\n",
    "    Ij = 40*e**3/hbar/C\n",
    "    L = 2 * 10**(-8)\n",
    "    M = 2 * 10**(-8)\n",
    "    #I = 1.72 * 10**(-8)\n",
    "    \n",
    "\n",
    "    transmon = Transmon(psi = [1, 1, 0], C = C, Ij1 = Ij, Ij2 = 0, M = M)\n",
    "    coupling = Coupling(C /100/2)\n",
    "    osc = Oscillator(psi = [1, 0, 0, 0, 0], L = L, C = C, gamma = 0.1, noise = 1)\n",
    "    drive_osc = InSignal()\n",
    "\n",
    "    circuit = Circuit([transmon, coupling, osc, drive_osc],  [[1], [0, 2], [1], [2]], dt = dt)\n",
    "    \n",
    "    return(circuit)"
   ]
  },
  {
   "cell_type": "markdown",
   "metadata": {},
   "source": [
    "# Quadrature mixer"
   ]
  },
  {
   "cell_type": "markdown",
   "metadata": {},
   "source": [
    "<img src=\"img/КвадрСмес.png\" align=\"left\" alt=\"Drawing\" style=\"width: 500px;\"/>"
   ]
  },
  {
   "cell_type": "code",
   "execution_count": 3,
   "metadata": {
    "ExecuteTime": {
     "end_time": "2019-11-27T09:13:00.278705Z",
     "start_time": "2019-11-27T09:13:00.269635Z"
    }
   },
   "outputs": [],
   "source": [
    "def quadrature_mixer():\n",
    "    A = 1\n",
    "    I0 = 0.3\n",
    "    Q0 = -0.3\n",
    "    fc = 10\n",
    "    fI = fQ = 2\n",
    "    L = 1\n",
    "\n",
    "    t = np.arange(0, 1, 0.01)\n",
    "    VL = A * np.sin(2 * np.pi * fc * t)\n",
    "    VLL = A * np.cos(2 * np.pi * fc * t)\n",
    "    I = I0 * np.sin(2 * np.pi * fI * t)\n",
    "    Q = Q0 * np.cos(2 * np.pi * fQ * t)\n",
    "    VR = VL * I * L + VLL * Q * L\n",
    "\n",
    "    #checking\n",
    "    VR_check = 0.5 * A * (I0 + Q0) * np.cos(2 * np.pi * (fc - fI) * t) -\\\n",
    "               0.5 * A * (I0 - Q0) * np.cos(2 * np.pi * (fc + fI) * t)\n",
    "\n",
    "    fig, (ax1, ax2, ax3) = plt.subplots(3, 1, sharex=True)\n",
    "    ax1.plot(t, VL + VLL)\n",
    "    ax1.set_title(\"Carrier signal\")\n",
    "    ax2.plot(t, I + Q)\n",
    "    ax2.set_title(\"Modulation signal\")\n",
    "    ax3.plot(t, VR)\n",
    "    ax3.plot(t, VR_check)\n",
    "    ax3.set_title(\"Output signal\")\n",
    "    ax3.set_xlabel(\"time\")\n",
    "    fig.tight_layout()\n",
    "    plt.show()"
   ]
  },
  {
   "cell_type": "code",
   "execution_count": null,
   "metadata": {},
   "outputs": [],
   "source": []
  }
 ],
 "metadata": {
  "kernelspec": {
   "display_name": "Python 3",
   "language": "python",
   "name": "python3"
  },
  "language_info": {
   "codemirror_mode": {
    "name": "ipython",
    "version": 3
   },
   "file_extension": ".py",
   "mimetype": "text/x-python",
   "name": "python",
   "nbconvert_exporter": "python",
   "pygments_lexer": "ipython3",
   "version": "3.7.4"
  },
  "latex_envs": {
   "LaTeX_envs_menu_present": true,
   "autoclose": false,
   "autocomplete": true,
   "bibliofile": "biblio.bib",
   "cite_by": "apalike",
   "current_citInitial": 1,
   "eqLabelWithNumbers": true,
   "eqNumInitial": 1,
   "hotkeys": {
    "equation": "Ctrl-E",
    "itemize": "Ctrl-I"
   },
   "labels_anchors": false,
   "latex_user_defs": false,
   "report_style_numbering": false,
   "user_envs_cfg": false
  },
  "toc": {
   "base_numbering": 1,
   "nav_menu": {},
   "number_sections": true,
   "sideBar": true,
   "skip_h1_title": false,
   "title_cell": "Table of Contents",
   "title_sidebar": "Contents",
   "toc_cell": false,
   "toc_position": {
    "height": "641px",
    "left": "78px",
    "top": "225px",
    "width": "182px"
   },
   "toc_section_display": true,
   "toc_window_display": true
  }
 },
 "nbformat": 4,
 "nbformat_minor": 2
}
