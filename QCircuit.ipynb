{
 "cells": [
  {
   "cell_type": "code",
   "execution_count": 1,
   "metadata": {
    "ExecuteTime": {
     "end_time": "2019-11-14T16:36:21.609667Z",
     "start_time": "2019-11-14T16:36:20.908615Z"
    }
   },
   "outputs": [],
   "source": [
    "import matplotlib.pyplot as plt\n",
    "import numpy as np\n",
    "import random\n",
    "import copy"
   ]
  },
  {
   "cell_type": "code",
   "execution_count": 2,
   "metadata": {
    "ExecuteTime": {
     "end_time": "2019-11-14T16:36:21.791087Z",
     "start_time": "2019-11-14T16:36:21.787326Z"
    }
   },
   "outputs": [],
   "source": [
    "hbar = 1.05 * 10**(-34)\n",
    "e = 1.6 * 10**(-19)\n",
    "Phi0 = np.pi * hbar / e"
   ]
  },
  {
   "cell_type": "markdown",
   "metadata": {},
   "source": [
    "# Objects"
   ]
  },
  {
   "cell_type": "markdown",
   "metadata": {},
   "source": [
    "## Transmon"
   ]
  },
  {
   "cell_type": "markdown",
   "metadata": {},
   "source": [
    "<img src=\"img/transmon.png\" align=\"right\" alt=\"Drawing\" style=\"width: 400px;\"/>\n",
    "\n",
    "$E_{j1} = \\cfrac{\\hbar I_{j1}}{2e}$\n",
    "\n",
    "$E_{j2} = \\cfrac{\\hbar I_{j2}}{2e}$ (если есть)\n",
    "\n",
    "$\\Phi_{ext} = MI$\n",
    "\n",
    "$E_j = \\sqrt{E_{j1}^2 + E_{j2}^2 + E_{j1}E_{j2}\\cos(2e \\Phi_{ext}/\\hbar)}$\n",
    "\n",
    "$E_c = \\cfrac{e^2}{2(C + C_r + C_l + C_u)} = \\cfrac{e^2}{2(C + C_{neighbours})}$\n",
    "\n",
    "$\\hbar \\omega = \\sqrt{(8 E_c E_j)}$\n",
    "\n",
    "$E_{n-1, n} = \\sqrt{(8 E_c E_j)} - E_cn$"
   ]
  },
  {
   "cell_type": "code",
   "execution_count": 32,
   "metadata": {
    "ExecuteTime": {
     "end_time": "2019-11-14T16:40:47.334120Z",
     "start_time": "2019-11-14T16:40:47.322453Z"
    }
   },
   "outputs": [],
   "source": [
    "class Transmon:\n",
    "# properties\n",
    "    # n - number of levels\n",
    "    # psi - wave function\n",
    "    # C capacity\n",
    "    # Ej\n",
    "    # Ec\n",
    "    # w - array of freq 0-1, 1-2 ...\n",
    "    # psi - wave function (defaulf [1, 0 , 0 ...])\n",
    "    # gamma\n",
    "    \n",
    "    def __init__(self, psi, C, Ij1, Ij2 = 0, M = 0, I = 0, Cnb = [0], gamma = 0):\n",
    "        \n",
    "        # number of levels\n",
    "        self.n = len(psi)\n",
    "        \n",
    "        #C, Ej, Ec, w\n",
    "        self.gamma = gamma\n",
    "        self.C = C\n",
    "        Ej1 = hbar * Ij1 / (2 * e)\n",
    "        Ej2 = hbar * Ij2 / (2 * e)\n",
    "        Phiext = I * M\n",
    "        self.Ej = np.sqrt(Ej1**2 + Ej2**2 + 2 * Ej1 * Ej2 * np.cos(2 * e / hbar * Phiext))\n",
    "        self.Ec = e**2 / 2 / (C + np.sum(Cnb))\n",
    "        self.w = np.zeros(self.n - 1)\n",
    "        for i in range(1, self.n):\n",
    "            self.w[i-1] = np.sqrt(8 * self.Ec * self.Ej) / hbar - self.Ec * i / hbar\n",
    "            self.w[i-1] *= 10**(-9)\n",
    "\n",
    "        \n",
    "        #wave fucntion\n",
    "        self.psi = np.array(psi, dtype = complex)\n",
    "        if self.psi.size != self.n:\n",
    "            print('error, wrong size of transmon.psi')\n",
    "        self.psi = self.psi / np.linalg.norm(self.psi)\n",
    "        self.psi.shape = (self.n, 1)"
   ]
  },
  {
   "cell_type": "markdown",
   "metadata": {},
   "source": [
    "## Ocsillator"
   ]
  },
  {
   "cell_type": "markdown",
   "metadata": {},
   "source": [
    "$\\hbar \\omega = \\cfrac{\\hbar}{\\sqrt{LC}}$\n",
    "\n",
    "$E_{n-1, n} = \\hbar \\omega$"
   ]
  },
  {
   "cell_type": "code",
   "execution_count": 93,
   "metadata": {
    "ExecuteTime": {
     "end_time": "2019-11-14T17:50:22.290589Z",
     "start_time": "2019-11-14T17:50:22.281817Z"
    }
   },
   "outputs": [],
   "source": [
    "class Oscillator:\n",
    "# properties\n",
    "    # n - number of levels\n",
    "    # C - capacity\n",
    "    # psi - wave function\n",
    "    # w - array of freq 0-1, 1-2 ...\n",
    "    # psi - wave function (defaulf [1, 0 , 0 ...])\n",
    "    # gamma\n",
    "    \n",
    "    def __init__(self, psi, C, L, gamma = 0, noise = 0):\n",
    "        \n",
    "        # number of levels\n",
    "        self.n = len(psi)\n",
    "        \n",
    "        #С, w\n",
    "        self.gamma = gamma\n",
    "        self.noise = noise\n",
    "        self.C = C\n",
    "        self.w = np.array([1/np.sqrt(L * C)] * (self.n - 1)) * 10**(-9)\n",
    "        \n",
    "        #wave fucntion\n",
    "        self.psi = np.array(psi, dtype = complex)\n",
    "        if self.psi.size != self.n:\n",
    "            print('error, wrong size of oscillator.psi')\n",
    "        self.psi = self.psi / np.linalg.norm(self.psi)\n",
    "        self.psi.shape = (self.n, 1)"
   ]
  },
  {
   "cell_type": "markdown",
   "metadata": {},
   "source": [
    "## Coupling\n",
    "\n",
    "$G = \\cfrac{C \\sqrt{\\omega_1\\omega_2}}{2\\sqrt{(C+C_1)(C+C_2)}}$"
   ]
  },
  {
   "cell_type": "code",
   "execution_count": 5,
   "metadata": {
    "ExecuteTime": {
     "end_time": "2019-11-14T16:36:29.269539Z",
     "start_time": "2019-11-14T16:36:29.265590Z"
    }
   },
   "outputs": [],
   "source": [
    "class Coupling():\n",
    "    \n",
    "    def __init__(self, C):\n",
    "        self.C = C\n",
    "        self.G = C / 2"
   ]
  },
  {
   "cell_type": "markdown",
   "metadata": {},
   "source": [
    "## Drive\n",
    "\n",
    "накачка вида $\\Omega(t) (a^\\dagger + a)$"
   ]
  },
  {
   "cell_type": "code",
   "execution_count": null,
   "metadata": {},
   "outputs": [],
   "source": []
  },
  {
   "cell_type": "markdown",
   "metadata": {},
   "source": [
    "## Circuit"
   ]
  },
  {
   "cell_type": "code",
   "execution_count": 6,
   "metadata": {
    "ExecuteTime": {
     "end_time": "2019-11-14T16:36:30.148305Z",
     "start_time": "2019-11-14T16:36:30.133683Z"
    }
   },
   "outputs": [],
   "source": [
    "# Для записи цепей. Цепь записывается через массив элементов цепи (вершины) и список ребер.\n",
    "class Circuit():\n",
    "    \n",
    "# dt\n",
    "# elements\n",
    "# egdes\n",
    "# psi\n",
    "# psiwrite\n",
    "# a \n",
    "# ad\n",
    "# H\n",
    "# Hwrite\n",
    "# HwriteRWB\n",
    "    \n",
    "    def __init__(self, elements, edges, dt):\n",
    "        self.dt = dt\n",
    "        self.elements = np.asarray(elements)\n",
    "        self.edges = np.asarray(edges)\n",
    "        self.psi, self.psiwrite = CreatePsi(self)\n",
    "        \n",
    "        # находим константы связи G\n",
    "        for i in range(0, self.elements.size):\n",
    "            if self.elements[i].__class__.__name__ == 'Coupling':\n",
    "                for j in range(0, self.edges.shape[0]):\n",
    "                    if self.edges[j][0] == i:\n",
    "                        tmp = self.edges[j][1]\n",
    "                        self.elements[i].G *= np.sqrt(self.elements[tmp].w[0]/(self.elements[i].C \\\n",
    "                                                                                     + self.elements[tmp].C))\n",
    "                    if self.edges[j][1] == i:\n",
    "                        tmp = self.edges[j][0]\n",
    "                        self.elements[i].G *= np.sqrt(self.elements[tmp].w[0]/(self.elements[i].C \\\n",
    "                                                                                     + self.elements[tmp].C))\n",
    "                        \n",
    "        self.a, self.ad = CreateAAd(self, RWB_time = 0.)\n",
    "        self.H = CreateHamiltonian(self)\n",
    "        self.Hwrite, self.HwriteRWB = CreateHamiltonianWrite(self)\n",
    "        self.rwb, self.rwbd = CreateRWB(self)"
   ]
  },
  {
   "cell_type": "markdown",
   "metadata": {},
   "source": [
    "# Operators (fuctions)"
   ]
  },
  {
   "cell_type": "markdown",
   "metadata": {},
   "source": [
    "## CreatePsi"
   ]
  },
  {
   "cell_type": "code",
   "execution_count": 7,
   "metadata": {
    "ExecuteTime": {
     "end_time": "2019-11-14T16:36:31.004579Z",
     "start_time": "2019-11-14T16:36:30.999760Z"
    }
   },
   "outputs": [],
   "source": [
    "# волновая функиция по circuit \n",
    "def CreatePsi(circuit):\n",
    "    psi = np.array([], dtype = complex)\n",
    "    psiwrite = chr(936) + ' = '\n",
    "    for i in range(0, circuit.elements.size):\n",
    "        if 'psi' in circuit.elements[i].__dict__:\n",
    "            if psi.size == 0:\n",
    "                psi = circuit.elements[i].__dict__.get('psi')\n",
    "                psiwrite = psiwrite + chr(936) + str(i)\n",
    "            else:\n",
    "                psi = np.kron(psi, circuit.elements[i].__dict__.get('psi'))\n",
    "                psiwrite = psiwrite + chr(8855) + chr(936) + str(i)\n",
    "    return(psi, psiwrite)"
   ]
  },
  {
   "cell_type": "markdown",
   "metadata": {},
   "source": [
    "## CreateAAd"
   ]
  },
  {
   "cell_type": "code",
   "execution_count": 8,
   "metadata": {
    "ExecuteTime": {
     "end_time": "2019-11-14T16:36:31.175749Z",
     "start_time": "2019-11-14T16:36:31.167746Z"
    }
   },
   "outputs": [],
   "source": [
    "# операторы рождения и уничтожения по circuit\n",
    "# RWB = 0. - не учитывается RWB\n",
    "# RWB = 1. - учитывается (1 число шагов по времени)\n",
    "def CreateAAd(circuit, RWB_time):\n",
    "    n = circuit.psi.size\n",
    "    a = np.stack([np.identity(n, dtype = complex)] * circuit.elements.size)\n",
    "    ad = np.stack([np.identity(n, dtype = complex)] * circuit.elements.size)\n",
    "    cnt = 1\n",
    "    for i in range(0, circuit.elements.size):\n",
    "        if 'psi' in circuit.elements[i].__dict__: \n",
    "            if cnt == 1:\n",
    "                tmpa = np.sqrt(np.diag(np.arange(1, circuit.elements[i].n, dtype = complex), k = 1))\n",
    "                tmpad = tmpa.transpose()\n",
    "            else:\n",
    "                tmpa = np.sqrt(np.diag(np.arange(1, circuit.elements[i].n, dtype = complex), k = 1))\n",
    "                tmpad = tmpa.transpose()\n",
    "                tmpa = np.kron(np.identity(cnt), tmpa)\n",
    "                tmpad = np.kron(np.identity(cnt), tmpad)\n",
    "            cnt *=  circuit.elements[i].n\n",
    "            if cnt < circuit.psi.size:\n",
    "                tmpa = np.kron(tmpa, np.identity(circuit.psi.size // cnt))\n",
    "                tmpad = np.kron(tmpad, np.identity(circuit.psi.size // cnt))\n",
    "            a[i] = tmpa\n",
    "            ad[i] = tmpad\n",
    "    return(a, ad)"
   ]
  },
  {
   "cell_type": "code",
   "execution_count": 10,
   "metadata": {
    "ExecuteTime": {
     "end_time": "2019-11-14T16:36:31.355796Z",
     "start_time": "2019-11-14T16:36:31.341015Z"
    }
   },
   "outputs": [],
   "source": [
    "def CreateRWB(circuit):\n",
    "    n = circuit.psi.size\n",
    "    rwb = np.stack([np.identity(n, dtype = complex)] * circuit.elements.size)\n",
    "    rwbd = np.stack([np.identity(n, dtype = complex)] * circuit.elements.size)\n",
    "    cnt = 1\n",
    "    for i in range(0, circuit.elements.size):\n",
    "        if 'psi' in circuit.elements[i].__dict__: \n",
    "            if cnt == 1:\n",
    "                tmpa = np.diag(np.append(np.zeros(1), np.exp(- 1j * circuit.elements[i].w * circuit.dt)))\n",
    "                tmpad = np.diag(np.append(np.exp(1j * circuit.elements[i].w * circuit.dt), np.zeros(1)))\n",
    "            else:\n",
    "                tmpa = np.diag(np.append(np.zeros(1), np.exp(- 1j * circuit.elements[i].w * circuit.dt)))\n",
    "                tmpad = np.diag(np.append(np.exp(1j * circuit.elements[i].w * circuit.dt), np.zeros(1)))\n",
    "                tmpa = np.kron(np.identity(cnt), tmpa)\n",
    "                tmpad = np.kron(np.identity(cnt), tmpad)\n",
    "            cnt *=  circuit.elements[i].n\n",
    "            if cnt < circuit.psi.size:\n",
    "                tmpa = np.kron(tmpa, np.identity(circuit.psi.size // cnt))\n",
    "                tmpad = np.kron(tmpad, np.identity(circuit.psi.size // cnt))\n",
    "            rwb[i] = tmpa\n",
    "            rwbd[i] = tmpad\n",
    "    return(rwb, rwbd)"
   ]
  },
  {
   "cell_type": "markdown",
   "metadata": {},
   "source": [
    "## CreateHamiltonian"
   ]
  },
  {
   "cell_type": "code",
   "execution_count": 88,
   "metadata": {
    "ExecuteTime": {
     "end_time": "2019-11-14T17:47:15.290613Z",
     "start_time": "2019-11-14T17:47:15.276005Z"
    }
   },
   "outputs": [],
   "source": [
    "# по circuit выводит гамильтониан системы\n",
    "def CreateHamiltonian(circuit):\n",
    "    H = np.zeros((circuit.psi.size, circuit.psi.size), dtype = complex)\n",
    "    for i in range(0, circuit.elements.size):\n",
    "        # член взаимодействия\n",
    "        if circuit.elements[i].__class__.__name__ == 'Coupling':\n",
    "            for j in range(0, circuit.edges.shape[0]):\n",
    "                if circuit.edges[j][0] == i:\n",
    "                    tmp = circuit.edges[j][1]\n",
    "                    tmpH1 = circuit.ad[tmp] + circuit.a[tmp]\n",
    "                if circuit.edges[j][1] == i:\n",
    "                    tmp = circuit.edges[j][0]\n",
    "                    tmpH2 = circuit.ad[tmp] + circuit.a[tmp]\n",
    "            H = H + circuit.elements[i].G * np.dot(tmpH1, tmpH2)\n",
    "        \n",
    "        # член затухания\n",
    "        if circuit.elements[i].__class__.__name__ == 'Transmon' or\\\n",
    "           circuit.elements[i].__class__.__name__ == 'Oscillator':\n",
    "            H = H - 1j * circuit.elements[i].gamma * np.dot(circuit.ad[i], circuit.a[i]) / 2.\n",
    "        \n",
    "        # шум\n",
    "        if circuit.elements[i].__class__.__name__ == 'Oscillator':\n",
    "            #  просто проверка на всякий случай\n",
    "            if circuit.elements[i].gamma * circuit.elements[i].noise != 0:\n",
    "                x = np.dot(np.conj(circuit.psi.transpose()), np.dot((circuit.ad[i] + circuit.a[i]), circuit.psi))\n",
    "                J = (np.real(x)/2* np.sqrt(circuit.elements[i].gamma) + random.gauss(0, 1)/np.sqrt(circuit.dt))\n",
    "                H = H + 1j * np.sqrt(circuit.elements[i].gamma) * J * circuit.a[i]\n",
    "        \n",
    "    return (H)"
   ]
  },
  {
   "cell_type": "code",
   "execution_count": 12,
   "metadata": {
    "ExecuteTime": {
     "end_time": "2019-11-14T16:36:31.594378Z",
     "start_time": "2019-11-14T16:36:31.586019Z"
    }
   },
   "outputs": [],
   "source": [
    "def CreateHamiltonianWrite(circuit):\n",
    "    Hwrite = 'H = '\n",
    "    HwriteRWB = 'H_RWB = '\n",
    "    for i in range(0, circuit.elements.size):\n",
    "        if circuit.elements[i].__class__.__name__ == 'Transmon' or\\\n",
    "           circuit.elements[i].__class__.__name__ == 'Oscillator':\n",
    "            Hwrite = Hwrite + ' + \\u0127\\u03C9_' + str(i) + 'a' + chr(8314) + '_' + str(i) + 'a_' + str(i)\n",
    "        if circuit.elements[i].__class__.__name__ == 'Coupling':\n",
    "            Hwrite = Hwrite + ' + \\u0127g_' + str(i)\n",
    "            HwriteRWB = HwriteRWB + ' + \\u0127g_' + str(i)\n",
    "            for j in range(0, circuit.edges.shape[0]):\n",
    "                if circuit.edges[j][0] == i:\n",
    "                    tmp = circuit.edges[j][1]\n",
    "                    Hwrite = Hwrite + '(' + 'a' + chr(8314) + '_' + str(tmp) + ' + a_' + str(tmp) + ')'\n",
    "                    HwriteRWB = HwriteRWB + '(' + 'a' + chr(8314) + '_' + str(tmp) + ' + a_' + str(tmp) + ')'\n",
    "                if circuit.edges[j][1] == i:\n",
    "                    tmp = circuit.edges[j][0]\n",
    "                    Hwrite = Hwrite + '(' + 'a' + chr(8314) + '_' + str(tmp) + ' + a_' + str(tmp) + ')'\n",
    "                    HwriteRWB = HwriteRWB + '(' + 'a' + chr(8314) + '_' + str(tmp) + ' + a_' + str(tmp) + ')'\n",
    "    return (Hwrite, HwriteRWB)"
   ]
  },
  {
   "cell_type": "markdown",
   "metadata": {},
   "source": [
    "## RK4"
   ]
  },
  {
   "cell_type": "code",
   "execution_count": 80,
   "metadata": {
    "ExecuteTime": {
     "end_time": "2019-11-14T17:36:26.804670Z",
     "start_time": "2019-11-14T17:36:26.793759Z"
    }
   },
   "outputs": [],
   "source": [
    "# evolution for RK4\n",
    "def FuncEvolution(psi, circuit):\n",
    "    dpsi = - 1j * np.dot(circuit.H, psi)\n",
    "    return(dpsi)\n",
    "\n",
    "def RK4(circuit, RWB_time):\n",
    "    k1 = FuncEvolution(circuit.psi, circuit)\n",
    "    k2 = FuncEvolution(circuit.psi + circuit.dt/2 * k1, circuit)\n",
    "    k3 = FuncEvolution(circuit.psi + circuit.dt/2 * k2, circuit)\n",
    "    k4 = FuncEvolution(circuit.psi + circuit.dt * k3, circuit)\n",
    "    circuit.psi = (circuit.psi + circuit.dt/6 * (k1 + 2*k2 + 2*k3 + k4))\n",
    "    circuit.psi = circuit.psi / np.linalg.norm(circuit.psi)\n",
    "    \n",
    "    #recount annihilation and creation operatored due to RWB\n",
    "    #circuit.a, circuit.ad = CreateAAd(circuit, RWB_time)\n",
    "    for i in range(0, circuit.elements.size):\n",
    "        if 'psi' in circuit.elements[i].__dict__: \n",
    "            circuit.a[i] = np.dot(circuit.a[i], circuit.rwb[i])\n",
    "            circuit.ad[i] = np.dot(circuit.ad[i], circuit.rwbd[i])\n",
    "    \n",
    "    \n",
    "    #recount Hamiltonian\n",
    "    circuit.H = CreateHamiltonian(circuit)\n",
    "            \n",
    "    return(circuit)"
   ]
  },
  {
   "cell_type": "markdown",
   "metadata": {},
   "source": [
    "# Testing"
   ]
  },
  {
   "cell_type": "markdown",
   "metadata": {},
   "source": [
    "## transmon"
   ]
  },
  {
   "cell_type": "code",
   "execution_count": 14,
   "metadata": {
    "ExecuteTime": {
     "end_time": "2019-11-14T16:36:32.011522Z",
     "start_time": "2019-11-14T16:36:32.005362Z"
    }
   },
   "outputs": [
    {
     "name": "stdout",
     "output_type": "stream",
     "text": [
      "[6.55334456] GHz\n",
      "40.00000000000001\n",
      "[[0.70710678+0.j]\n",
      " [0.70710678+0.j]]\n"
     ]
    }
   ],
   "source": [
    "#проверка работы Transmon\n",
    "C = 5*10**(-14)\n",
    "Ij = 40*e**3/hbar/C\n",
    "\n",
    "transmon = Transmon(psi = [1, 1], C = C, Ij1 = Ij, Ij2 = 0)\n",
    "print(transmon.w/2/np.pi, 'GHz')\n",
    "print(transmon.Ej/transmon.Ec)\n",
    "print(transmon.psi)"
   ]
  },
  {
   "cell_type": "markdown",
   "metadata": {},
   "source": [
    "## oscillator"
   ]
  },
  {
   "cell_type": "code",
   "execution_count": 15,
   "metadata": {
    "ExecuteTime": {
     "end_time": "2019-11-14T16:36:32.175266Z",
     "start_time": "2019-11-14T16:36:32.171433Z"
    }
   },
   "outputs": [
    {
     "name": "stdout",
     "output_type": "stream",
     "text": [
      "[5.03292121 5.03292121] GHz\n",
      "[[1.+0.j]\n",
      " [0.+0.j]\n",
      " [0.+0.j]]\n"
     ]
    }
   ],
   "source": [
    "L = 2 * 10**(-8)\n",
    "osc = Oscillator(psi = [1, 0, 0], L = L, C = C)\n",
    "print(osc.w / 2 / np.pi, 'GHz')\n",
    "print(osc.psi)"
   ]
  },
  {
   "cell_type": "markdown",
   "metadata": {},
   "source": [
    "## coupling"
   ]
  },
  {
   "cell_type": "code",
   "execution_count": 16,
   "metadata": {
    "ExecuteTime": {
     "end_time": "2019-11-14T16:36:32.358588Z",
     "start_time": "2019-11-14T16:36:32.355731Z"
    }
   },
   "outputs": [],
   "source": [
    "coupling = Coupling(C/10)"
   ]
  },
  {
   "cell_type": "markdown",
   "metadata": {},
   "source": [
    "## circuit"
   ]
  },
  {
   "cell_type": "code",
   "execution_count": 17,
   "metadata": {
    "ExecuteTime": {
     "end_time": "2019-11-14T16:36:32.520919Z",
     "start_time": "2019-11-14T16:36:32.510428Z"
    },
    "scrolled": true
   },
   "outputs": [
    {
     "name": "stdout",
     "output_type": "stream",
     "text": [
      "Ψ = Ψ0⊗Ψ2\n",
      "[[0.70710678+0.j]\n",
      " [0.        +0.j]\n",
      " [0.        +0.j]\n",
      " [0.70710678+0.j]\n",
      " [0.        +0.j]\n",
      " [0.        +0.j]\n",
      " [0.        +0.j]\n",
      " [0.        +0.j]\n",
      " [0.        +0.j]]\n",
      "H =  + ħω_0a⁺_0a_0 + ħg_1(a⁺_0 + a_0)(a⁺_2 + a_2) + ħω_2a⁺_2a_2\n",
      "H_RWB =  + ħg_1(a⁺_0 + a_0)(a⁺_2 + a_2)\n",
      "0.014286160145856078\n"
     ]
    }
   ],
   "source": [
    "transmon = Transmon(psi = [1, 1, 0], C = C, Ij1 = Ij, Ij2 = 0)\n",
    "coupling = Coupling(C /100/2)\n",
    "osc = Oscillator(psi = [1, 0, 0], L = L, C = C)\n",
    "dt = 0.01\n",
    "\n",
    "\n",
    "circuit = Circuit([transmon, coupling, osc],  [[0, 1], [1, 2]], dt = dt)\n",
    "print(circuit.psiwrite)\n",
    "print(circuit.psi)\n",
    "print(circuit.Hwrite)\n",
    "print(circuit.HwriteRWB)\n",
    "print(circuit.elements[1].G/ 2/np.pi)"
   ]
  },
  {
   "cell_type": "code",
   "execution_count": 106,
   "metadata": {
    "ExecuteTime": {
     "end_time": "2019-11-14T17:54:43.826102Z",
     "start_time": "2019-11-14T17:54:43.661833Z"
    }
   },
   "outputs": [
    {
     "name": "stdout",
     "output_type": "stream",
     "text": [
      "[6.55334456 6.16530965] GHz, Trans\n",
      "[5.03292121 5.03292121] GHz, Osc\n",
      "0.014286160145856078 GHz, G\n"
     ]
    }
   ],
   "source": [
    "Time = 10\n",
    "dt = 0.01\n",
    "time = np.linspace(0, Time, Time // dt + 1)\n",
    "\n",
    "transmon = Transmon(psi = [1, 1, 0], C = C, Ij1 = Ij, Ij2 = 0)\n",
    "coupling = Coupling(C /100/2)\n",
    "osc = Oscillator(psi = [1, 0, 0], L = L, C = C, gamma = 0.1, noise = 1)\n",
    "circuit = Circuit([transmon, coupling, osc],  [[0, 1], [1, 2]], dt = dt)\n",
    "print(circuit.elements[0].w / 2 / np.pi, 'GHz, Trans')\n",
    "print(circuit.elements[2].w / 2 / np.pi, 'GHz, Osc')\n",
    "print(circuit.elements[1].G / 2 / np.pi, 'GHz, G')\n",
    "\n",
    "\n",
    "x0 = np.zeros((len(time)), dtype = complex)\n",
    "y0 = np.zeros((len(time)), dtype = complex)\n",
    "z0 = np.zeros((len(time)), dtype = complex)\n",
    "z2 = np.zeros((len(time)), dtype = complex)\n",
    "\n",
    "\n",
    "x0[0] = np.dot(np.conj(circuit.psi.transpose()), np.dot((circuit.ad[0] + circuit.a[0]), circuit.psi))\n",
    "y0[0] = 1j * np.dot(np.conj(circuit.psi.transpose()), np.dot((circuit.ad[0] - circuit.a[0]), circuit.psi))\n",
    "z0[0] = np.dot(np.conj(circuit.psi.transpose()), np.dot(circuit.ad[0], np.dot(circuit.a[0], circuit.psi)))\n",
    "z2[0] = np.dot(np.conj(circuit.psi.transpose()), np.dot(circuit.ad[2], np.dot(circuit.a[2], circuit.psi)))\n",
    "\n",
    "for i in range(1, len(time)):\n",
    "    circuit = RK4(circuit, 0)\n",
    "    x0[i] = np.dot(np.conj(circuit.psi.transpose()), np.dot((circuit.ad[0] + circuit.a[0]), circuit.psi))\n",
    "    y0[i] = 1j * np.dot(np.conj(circuit.psi.transpose()), np.dot((circuit.ad[0] - circuit.a[0]), circuit.psi))\n",
    "    z0[i] = np.dot(np.conj(circuit.psi.transpose()), np.dot(circuit.ad[0], np.dot(circuit.a[0], circuit.psi)))\n",
    "    z2[i] = np.dot(np.conj(circuit.psi.transpose()), np.dot(circuit.ad[2], np.dot(circuit.a[2], circuit.psi)))"
   ]
  },
  {
   "cell_type": "code",
   "execution_count": 107,
   "metadata": {
    "ExecuteTime": {
     "end_time": "2019-11-14T17:54:44.210032Z",
     "start_time": "2019-11-14T17:54:44.052087Z"
    }
   },
   "outputs": [
    {
     "data": {
      "image/png": "[encoded data removed]",
      "text/plain": [
       "<Figure size 1080x360 with 1 Axes>"
      ]
     },
     "metadata": {
      "needs_background": "light"
     },
     "output_type": "display_data"
    }
   ],
   "source": [
    "plt.figure(figsize=(15,5))\n",
    "#plt.plot(time*10**(9), x0)\n",
    "#plt.plot(time*10**(9), y0)\n",
    "plt.plot(time*10**(9), np.abs(z0))\n",
    "#plt.plot(time*10**(9), z2)\n",
    "plt.show()"
   ]
  },
  {
   "cell_type": "code",
   "execution_count": null,
   "metadata": {},
   "outputs": [],
   "source": []
  }
 ],
 "metadata": {
  "kernelspec": {
   "display_name": "Python 3",
   "language": "python",
   "name": "python3"
  },
  "language_info": {
   "codemirror_mode": {
    "name": "ipython",
    "version": 3
   },
   "file_extension": ".py",
   "mimetype": "text/x-python",
   "name": "python",
   "nbconvert_exporter": "python",
   "pygments_lexer": "ipython3",
   "version": "3.7.4"
  },
  "latex_envs": {
   "LaTeX_envs_menu_present": true,
   "autoclose": false,
   "autocomplete": true,
   "bibliofile": "biblio.bib",
   "cite_by": "apalike",
   "current_citInitial": 1,
   "eqLabelWithNumbers": true,
   "eqNumInitial": 1,
   "hotkeys": {
    "equation": "Ctrl-E",
    "itemize": "Ctrl-I"
   },
   "labels_anchors": false,
   "latex_user_defs": false,
   "report_style_numbering": false,
   "user_envs_cfg": false
  },
  "toc": {
   "base_numbering": 1,
   "nav_menu": {},
   "number_sections": true,
   "sideBar": true,
   "skip_h1_title": false,
   "title_cell": "Table of Contents",
   "title_sidebar": "Contents",
   "toc_cell": false,
   "toc_position": {
    "height": "calc(100% - 180px)",
    "left": "10px",
    "top": "150px",
    "width": "165px"
   },
   "toc_section_display": true,
   "toc_window_display": true
  }
 },
 "nbformat": 4,
 "nbformat_minor": 2
}
