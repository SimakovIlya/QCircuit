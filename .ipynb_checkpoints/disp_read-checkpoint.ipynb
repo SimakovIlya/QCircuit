{
 "cells": [
  {
   "cell_type": "code",
   "execution_count": 1,
   "metadata": {
    "ExecuteTime": {
     "end_time": "2019-12-26T21:25:40.524735Z",
     "start_time": "2019-12-26T21:25:39.608505Z"
    }
   },
   "outputs": [],
   "source": [
    "with __import__('importnb').Notebook(): \n",
    "    from QCircuit import *"
   ]
  },
  {
   "cell_type": "code",
   "execution_count": 12,
   "metadata": {
    "ExecuteTime": {
     "end_time": "2019-12-26T21:29:13.378445Z",
     "start_time": "2019-12-26T21:29:10.507288Z"
    }
   },
   "outputs": [
    {
     "name": "stdout",
     "output_type": "stream",
     "text": [
      "len(weveform) 10000 dt 0.01 clock 1.0\n",
      "finish while i 0\n",
      "len(weveform) 10000 dt 0.01 clock 1.0\n",
      "finish while i 0\n"
     ]
    }
   ],
   "source": [
    "# временные параметры\n",
    "dt = 0.01\n",
    "Time = 100\n",
    "clock = 1\n",
    "nums = 1\n",
    "\n",
    "#цепь\n",
    "C = 5*10**(-14)\n",
    "Ij = 40*e**3/hbar/C\n",
    "L = 2 * 10**(-8)\n",
    "M = 2 * 10**(-8)\n",
    "#I = 1.72 * 10**(-8)\n",
    "\n",
    "transmon = Transmon(psi = [1, 0], C = C, Ij1 = Ij, Ij2 = 0, M = 0)\n",
    "coupling = Coupling(C /60)\n",
    "n_osc = 6\n",
    "alpha = 0\n",
    "gamma = 0.02\n",
    "osc = Oscillator(psi= np.exp(-alpha**2/2)*alpha**np.arange(n_osc)/np.sqrt(scipy.special.factorial(np.arange(n_osc))),\\\n",
    "                 L = L, C = C/1., gamma = gamma, noise = 1)\n",
    "drive_osc = InSignal()\n",
    "drive_tr = InSignal()\n",
    "circuit = Circuit([transmon, coupling, osc, drive_osc, drive_tr],  [[1, 4], [0, 2], [1], [2], [0]], dt = dt)\n",
    "\n",
    "# paraments\n",
    "A = 1\n",
    "I0 = 0.1\n",
    "Q0 = - I0\n",
    "fc = 4.5\n",
    "fI = fQ = 0.5 #итоговый сигнал будет на fc+fI c маплитудой (I0-Q0)/2 и аналогичен -cos поданному сразу\n",
    "\n",
    "# приборы\n",
    "lo = LO(drive_osc)\n",
    "lo.set_frequency(fc)\n",
    "lo.set_power(1.)\n",
    "awg_osc = AWG(drive_osc)\n",
    "awg_tr =AWG(drive_tr)\n",
    "lo_m = LO(drive_osc)\n",
    "lo_m.set_frequency(fc)\n",
    "lo_m.set_power(1.)\n",
    "mi = MI()\n",
    "mi.set_circuit(drive_osc)\n",
    "mi.set_lo(lo_m)\n",
    "mi.set_circuit(circuit)\n",
    "mi.set_clock(clock)\n",
    "\n",
    "# подача сигналов\n",
    "t_end = 20\n",
    "t_clock = np.arange(0, t_end, clock)\n",
    "awg_osc.set_nop(t_clock.size)\n",
    "awg_osc.set_waveform(I0 * np.sin(2 * np.pi * fI * t_clock), 0)\n",
    "awg_osc.set_waveform(Q0 * np.cos(2 * np.pi * fQ * t_clock), 1)\n",
    "awg_osc.set_clock(clock)\n",
    "\n",
    "# считываение сигналов\n",
    "mi.set_nums(nums)\n",
    "mi.set_nop(round(Time/clock))\n",
    "#mi.set_nop(round(Time//dt + 1))\n",
    "waveform = np.zeros((round(Time//dt + 1)))\n",
    "waveform[0] = 1\n",
    "mi.set_digital(waveform, 0)\n",
    "mi.set_cutoff_freq(10)\n",
    "mi.set_clock(1/clock)\n",
    "\n",
    "\n",
    "transmon = Transmon(psi = [1, 0], C = C, Ij1 = Ij, Ij2 = 0, M = 0)\n",
    "circuit = Circuit([transmon, coupling, osc, drive_osc],  [[1], [0, 2], [1], [2]], dt = dt)\n",
    "mi.set_circuit(circuit)\n",
    "signal0 = mi.measure()\n",
    "\n",
    "transmon = Transmon(psi = [0, 1], C = C, Ij1 = Ij, Ij2 = 0, M = 0)\n",
    "circuit = Circuit([transmon, coupling, osc, drive_osc],  [[1], [0, 2], [1], [2]], dt = dt)\n",
    "mi.set_circuit(circuit)\n",
    "signal1 = mi.measure()"
   ]
  },
  {
   "cell_type": "code",
   "execution_count": 13,
   "metadata": {
    "ExecuteTime": {
     "end_time": "2019-12-26T21:29:14.778972Z",
     "start_time": "2019-12-26T21:29:13.380608Z"
    }
   },
   "outputs": [
    {
     "name": "stdout",
     "output_type": "stream",
     "text": [
      "len(weveform) 10000 dt 0.01 clock 1.0\n",
      "finish while i 0\n"
     ]
    }
   ],
   "source": [
    "transmon = Transmon(psi = [1, 0], C = C, Ij1 = Ij, Ij2 = 0, M = 0)\n",
    "circuit = Circuit([transmon, coupling, osc, drive_osc],  [[1], [0, 2], [1], [2]], dt = dt)\n",
    "mi.set_circuit(circuit)\n",
    "mi.set_feature_real(feature_id = 0, feature = signal0['x0'], threshold = 0.00005)\n",
    "mi.set_feature_real(feature_id = 1, feature = signal1['x0'], threshold = 0.00005)\n",
    "signal = mi.measure()"
   ]
  },
  {
   "cell_type": "code",
   "execution_count": 14,
   "metadata": {
    "ExecuteTime": {
     "end_time": "2019-12-26T21:29:14.786194Z",
     "start_time": "2019-12-26T21:29:14.781107Z"
    }
   },
   "outputs": [
    {
     "name": "stdout",
     "output_type": "stream",
     "text": [
      "100\n"
     ]
    }
   ],
   "source": [
    "print(signal['x2'].size)"
   ]
  },
  {
   "cell_type": "code",
   "execution_count": 15,
   "metadata": {
    "ExecuteTime": {
     "end_time": "2019-12-26T21:29:15.044309Z",
     "start_time": "2019-12-26T21:29:14.789016Z"
    }
   },
   "outputs": [
    {
     "name": "stdout",
     "output_type": "stream",
     "text": [
      "1\n"
     ]
    },
    {
     "data": {
      "image/png": "[encoded data removed]",
      "text/plain": [
       "<Figure size 1080x360 with 2 Axes>"
      ]
     },
     "metadata": {
      "needs_background": "light"
     },
     "output_type": "display_data"
    }
   ],
   "source": [
    "time = np.arange(0, Time, 1)\n",
    "print(time[1])\n",
    "fig, (f1, f2) = plt.subplots(\n",
    "    nrows = 1, ncols = 2,\n",
    "    figsize=(15, 5)\n",
    ")\n",
    "f1.plot(time, np.real(signal1['z0'])/nums)\n",
    "f1.plot(time, np.real(signal1['z0'])/nums)\n",
    "f1.set_title(\"Time dependence of the enegry of the transmon <n>\", size =16)\n",
    "f1.set_xlabel('time, ns', size =16)\n",
    "f1.set_ylim(-0.1, 1.1)\n",
    "#f2.plot(time, np.abs(x2mean))\n",
    "f2.plot(time, np.real(signal1['z2'])/nums)\n",
    "f2.plot(time, np.real(signal1['z2'])/nums)\n",
    "f2.set_title(\"resonator <x>\", size =16)\n",
    "f2.set_xlabel('time, ns', size =16)\n",
    "f2.set_ylim(bottom = 0.0)\n",
    "plt.show()"
   ]
  },
  {
   "cell_type": "code",
   "execution_count": null,
   "metadata": {},
   "outputs": [],
   "source": []
  }
 ],
 "metadata": {
  "kernelspec": {
   "display_name": "Python 3",
   "language": "python",
   "name": "python3"
  },
  "language_info": {
   "codemirror_mode": {
    "name": "ipython",
    "version": 3
   },
   "file_extension": ".py",
   "mimetype": "text/x-python",
   "name": "python",
   "nbconvert_exporter": "python",
   "pygments_lexer": "ipython3",
   "version": "3.7.4"
  },
  "latex_envs": {
   "LaTeX_envs_menu_present": true,
   "autoclose": false,
   "autocomplete": true,
   "bibliofile": "biblio.bib",
   "cite_by": "apalike",
   "current_citInitial": 1,
   "eqLabelWithNumbers": true,
   "eqNumInitial": 1,
   "hotkeys": {
    "equation": "Ctrl-E",
    "itemize": "Ctrl-I"
   },
   "labels_anchors": false,
   "latex_user_defs": false,
   "report_style_numbering": false,
   "user_envs_cfg": false
  },
  "toc": {
   "base_numbering": 1,
   "nav_menu": {},
   "number_sections": true,
   "sideBar": true,
   "skip_h1_title": false,
   "title_cell": "Table of Contents",
   "title_sidebar": "Contents",
   "toc_cell": false,
   "toc_position": {},
   "toc_section_display": true,
   "toc_window_display": false
  }
 },
 "nbformat": 4,
 "nbformat_minor": 2
}
